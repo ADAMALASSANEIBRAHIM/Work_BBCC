{
 "cells": [
  {
   "cell_type": "markdown",
   "id": "90baf8a8-98dd-4920-983b-91cc2f2d75dc",
   "metadata": {},
   "source": [
    "# **Projet Big Data et Cloud Computing**"
   ]
  },
  {
   "cell_type": "markdown",
   "id": "dc06b93d-337b-4a4c-9992-7ef0f3f3d0f5",
   "metadata": {},
   "source": [
    "---\n",
    "# Utilisation des Pipelines pour l'Analyse et la prévision Météorologique en zone CEDEAO\n",
    "---"
   ]
  },
  {
   "cell_type": "markdown",
   "id": "e472da82-5e88-49a0-af7c-c8b68b3c5399",
   "metadata": {},
   "source": [
    "<div style=\"text-align: center;\">\n",
    "    <img src=\"https://media-exp1.licdn.com/dms/image/C4D0BAQHrgk0foyuJvw/company-logo_200_200/0/1559125976448?e=2159024400&v=beta&t=NtJQpfX1B73q4yoE8sy2dBTXfaGAPdmtVeu3JVe2Nf8\" alt=\"Image description\" />\n",
    "</div>\n"
   ]
  },
  {
   "cell_type": "markdown",
   "id": "9025f03a-091e-4d35-b891-77dc8b01926d",
   "metadata": {},
   "source": [
    "---\n",
    " ###                                   Sous la supervision de:  \n",
    " ###                                   Mously DIAW,  \n",
    " ###                                   Data Scientist / ML Engineer  \n",
    "###                                    Auto-entrepreneur  \n",
    "---"
   ]
  },
  {
   "cell_type": "markdown",
   "id": "73c52f27-4687-43ca-a110-dd9e3c00f529",
   "metadata": {},
   "source": [
    ">Rédigé par: \n",
    "\n",
    "> ADAM ALASSANE Ibrahim  \n",
    "AWOUTO KOFFI Samson  \n",
    "ATCHOU ANNA AMAVIE  \n",
    "HAROUNA GOUMBANE  \n",
    "\n"
   ]
  },
  {
   "cell_type": "markdown",
   "id": "1d4387cd-2add-40dd-8fd1-de155c9398f2",
   "metadata": {},
   "source": [
    "# **TABLES DES MATIERES**"
   ]
  },
  {
   "cell_type": "markdown",
   "id": "32e55606-797d-4dc1-8535-70c481730760",
   "metadata": {},
   "source": [
    "## 1.  **[INTRODUCTION](#INTRODUCTION)**\n",
    "## 2.  **[EXTRACTIONS](#EXTRACTIONS)**\n",
    "### 2.1 **[Chargement des fichiers depuis kaggle](#Chargement-des-fichiers-depuis-kaggle)**\n",
    "## 3.  **[TRAITEMENTS](#3.TRAITEMENT-DES-DONNEES)**\n",
    "## 4.  **[ANALYSE](#ANALYSE)** \n",
    "## 5.  **[PREVISION](#PREVISION)**\n",
    "## 6.  **[CONCLUSION](#CONCLUSION )**\n",
    "## 7.  **[RESSOURCES](#RESSOURCES)**"
   ]
  },
  {
   "cell_type": "code",
   "execution_count": 1,
   "id": "40e31520-34ba-419e-9b85-9c31be330397",
   "metadata": {},
   "outputs": [
    {
     "data": {
      "text/html": [
       "\n",
       "<style>\n",
       "    .styled-text {\n",
       "        font-family: Verdana;\n",
       "        font-size: 12px; /* Taille du texte normal */\n",
       "        color: #333; /* Couleur du texte */\n",
       "    }\n",
       "    .styled-title {\n",
       "        color: #13E6A3; \n",
       "        font-weight: \"bold\"; \n",
       "        font-size: 16px; \n",
       "    }\n",
       "    .styled-subtitle {\n",
       "        color: #150EEB; \n",
       "        font-weight: bold; \n",
       "        font-size: 14px; \n",
       "    }\n",
       "    .styled-sub-subtitle {\n",
       "        color: #0E66EB; \n",
       "        font-weight: bold; \n",
       "        font-size: px; \n",
       "    }\n",
       "    .styled-text {\n",
       "        font-family: Verdana;\n",
       "        font-size: 12px; /* Taille du texte normal */\n",
       "        color: #333; /* Couleur du texte */\n",
       "</style>\n",
       "\n",
       "\n"
      ],
      "text/plain": [
       "<IPython.core.display.HTML object>"
      ]
     },
     "metadata": {},
     "output_type": "display_data"
    }
   ],
   "source": [
    "from IPython.display import HTML\n",
    "\n",
    "# Code HTML et CSS pour styliser un texte\n",
    "html_code = \"\"\"\n",
    "<style>\n",
    "    .styled-text {\n",
    "        font-family: Verdana;\n",
    "        font-size: 12px; /* Taille du texte normal */\n",
    "        color: #333; /* Couleur du texte */\n",
    "    }\n",
    "    .styled-title {\n",
    "        color: #13E6A3; \n",
    "        font-weight: \"bold\"; \n",
    "        font-size: 16px; \n",
    "    }\n",
    "    .styled-subtitle {\n",
    "        color: #150EEB; \n",
    "        font-weight: bold; \n",
    "        font-size: 14px; \n",
    "    }\n",
    "    .styled-sub-subtitle {\n",
    "        color: #0E66EB; \n",
    "        font-weight: bold; \n",
    "        font-size: px; \n",
    "    }\n",
    "    .styled-text {\n",
    "        font-family: Verdana;\n",
    "        font-size: 12px; /* Taille du texte normal */\n",
    "        color: #333; /* Couleur du texte */\n",
    "</style>\n",
    "\n",
    "\n",
    "\"\"\"\n",
    "\n",
    "# Afficher le code HTML dans le notebook\n",
    "display(HTML(html_code))\n"
   ]
  },
  {
   "cell_type": "markdown",
   "id": "ad06eea3-8ff8-4c2b-ae54-5f88f0d940d5",
   "metadata": {},
   "source": [
    "<h1 class=\"styled-title\">1. INTRODUCTION</h1>\n"
   ]
  },
  {
   "cell_type": "markdown",
   "id": "7cc9e0b1-a916-47bb-b18d-cdf85a56493d",
   "metadata": {},
   "source": [
    "<p class=\"styled-text\">\n",
    "Le climat est depuis longtemps une préoccupation mondiale, en particulier à cause des effets amplifiés du réchauffement climatique, comme l'a montré l'ouragan récent en Floride, ayant causé 16 morts selon les premiers bilans. Il est clair que, sans les données satellitaires qui ont permis d'identifier la source de l'ouragan et les analyses qui ont suivi pour déterminer sa trajectoire et son ampleur, le nombre de victimes aurait pu être bien plus élevé. Ainsi, une anticipation insuffisante de ces catastrophes pourrait entraîner des conséquences dramatiques, tant humaines que matérielles.\n",
    "\n",
    "La lutte contre le réchauffement climatique passe par des investissements dans des technologies de surveillance et d'analyse des données climatiques, essentielles pour améliorer la prise de décision. Les données climatiques présentent toutes les caractéristiques de la Big Data : elles sont massives, variées (images satellites, mesures de température, précipitations), arrivent en continu, et sont très fiables, car exemptes de biais de collecte humaine. Par exemple, en une journée, des centaines de milliers de données de divers types (images des nuages, images de l'océan, avancée du désert, données captées par des capteurs) peuvent être recueillies sur une seule zone géographique, ce qui représente un défi imposant.\n",
    "\n",
    "Cependant, malgré les défis liés à la collecte et à l'analyse de ces données massives, la science doit apporter des solutions, ce qui est désormais possible grâce aux solutions offertes par le cloud, avec des serveurs ayant des capacités de stockage presque illimitées et des machines puissantes permettant le traitement de ces données.\n",
    "\n",
    "Consciente des enjeux climatiques, la Communauté Économique des États de l'Afrique de l'Ouest (CEDEAO) a mis sur pied une commission chargée de l'élaboration de la Stratégie Régionale Climat (SRC). Il s'agit d'une initiative cruciale pour la région de l'Afrique de l'Ouest, particulièrement vulnérable aux effets du changement climatique. La région connaît des augmentations significatives de température, une variabilité accrue des précipitations et une fréquence plus élevée d'événements météorologiques extrêmes tels que sécheresses et inondations. Ces changements ont des répercussions directes sur l'agriculture, les ressources en eau, la santé publique et les infrastructures.\n",
    "</p>\n",
    "\n",
    "<div style=\"text-align: center;\">\n",
    "    <figure>\n",
    "        <img src=\"https://images.theconversation.com/files/406497/original/file-20210615-19-xv665h.gif?ixlib=rb-1.1.0&q=30&auto=format&w=600&h=511&fit=crop&dpr=2\" \n",
    "             alt=\"Image description\" \n",
    "             width=\"300\" height=\"300\" />\n",
    "        <figcaption style=\"font-style: italic; color: gray;\">Les pays membres de la CEDEAO</figcaption>\n",
    "    </figure>\n",
    "</div>\n",
    "\n",
    "<p class=\"styled-text\">\n",
    "Dans le cadre de ce projet, intitulé **Utilisation des Pipelines pour l'Analyse et la Prévision Météorologique en zone CEDEAO**, un processus de collecte, de traitement et de visualisation des données climatiques en temps réel a été mis en place pour éclairer les décisions publiques face aux impacts du changement climatique. Ce projet vise à fournir une visualisation dynamique, sur une carte, des régions les plus touchées par divers événements climatiques, notamment les zones les plus chaudes, les plus inondées et les plus venteuses. Pour atteindre cet objectif, il est essentiel de collecter des données provenant de sources fiables, puis de les traiter en temps réel. Parallèlement, l'hébergement de ces données dans le cloud est crucial pour garantir leur accessibilité et leur sécurité. Ce système intégrant la collecte, le traitement et l'hébergement des données, appelé processus de construction d'un pipeline ETL, facilitera une visualisation en temps réel des données climatiques, améliorant ainsi la réactivité et l’efficacité des politiques publiques dans la région.\n",
    "</p>"
   ]
  },
  {
   "cell_type": "markdown",
   "id": "d4d0890f-0d69-45bc-b7cb-164abf55629e",
   "metadata": {},
   "source": [
    "**[Revenir à la table des matières](#TABLES-DES-MATIERES)**"
   ]
  },
  {
   "cell_type": "markdown",
   "id": "faa3307a-b31e-4bbb-a963-f943cbac8621",
   "metadata": {},
   "source": [
    "<h1 class=\"styled-title\">2. EXTRACTIONS</h1>\n"
   ]
  },
  {
   "cell_type": "markdown",
   "id": "358b8dbf-b617-4047-9531-b7c72e321fbd",
   "metadata": {},
   "source": [
    "<p class = \"styled-text\">Cette partie est scindée en deux étapes. La première étape consiste à aller chercher les données sur kaggle. Et lors la deuxième étape, nous extrayerons les données de la CEDEAO car notre étude portera sur cette organisation régionale.</p>"
   ]
  },
  {
   "cell_type": "markdown",
   "id": "23c39574-7339-4b3a-b438-7706564a7502",
   "metadata": {},
   "source": [
    "<h2 class =\"styled-subtitle\">2.1 Chargement des fichiers depuis kaggle</h2>\n"
   ]
  },
  {
   "cell_type": "markdown",
   "id": "2f1d8e38-56f7-4846-8339-d6a41bfcceee",
   "metadata": {},
   "source": [
    "<p class = \"styled-text\">Pour accéder aux données, il est important d'avoir un compte kaggle et de disposer de sa clé. Vous devez aussi avoir kaggle installer sur la machine. Sinon, exécuter install kaggle.</p>"
   ]
  },
  {
   "cell_type": "code",
   "execution_count": 3,
   "id": "3156d0a2-c24f-47a8-9e73-e08d1e744c05",
   "metadata": {},
   "outputs": [],
   "source": [
    "# Chargement des modules \n",
    "import os\n",
    "import json\n",
    "import zipfile\n",
    "import pandas as pd\n",
    "import numpy as np\n",
    "import seaborn as sns\n",
    "import matplotlib.pyplot as plt"
   ]
  },
  {
   "cell_type": "code",
   "execution_count": 2,
   "id": "23f1273b-1ad0-4be6-ad77-815fb8b6fcdf",
   "metadata": {},
   "outputs": [
    {
     "name": "stdout",
     "output_type": "stream",
     "text": [
      "Dataset URL: https://www.kaggle.com/datasets/guillemservera/global-daily-climate-data\n",
      "License(s): Attribution-NonCommercial 4.0 International (CC BY-NC 4.0)\n",
      "global-daily-climate-data.zip: Skipping, found more recently modified local copy (use --force to force download)\n",
      "['cities.csv', 'countries.csv', 'daily_weather.parquet']\n"
     ]
    }
   ],
   "source": [
    "# Informations d'authentification pour Kaggle\n",
    "api_token = {\n",
    "    \"username\": \"ibrahimadamalassane\",\n",
    "    \"key\": \"ab6fd3829d50bf85ce4071e7bbc8f4e9\"\n",
    "}\n",
    "\n",
    "# Sauvegarder le fichier kaggle.json dans le répertoire de travail courant\n",
    "with open('kaggle.json', 'w') as file:\n",
    "    json.dump(api_token, file)\n",
    "\n",
    "# Définir le répertoire de configuration de Kaggle\n",
    "os.environ['KAGGLE_CONFIG_DIR'] = os.getcwd()\n",
    "\n",
    "# Assurez-vous que les permissions sont correctes\n",
    "os.chmod('kaggle.json', 0o600)\n",
    "\n",
    "# Utiliser la bibliothèque Kaggle pour télécharger un fichier\n",
    "# Exemple : Remplacez 'dataset-owner/dataset-name' par l'identifiant du dataset que vous souhaitez télécharger\n",
    "!kaggle datasets download -d guillemservera/global-daily-climate-data\n",
    "# Extraction des fiichiers Zipper\n",
    "with zipfile.ZipFile('global-daily-climate-data.zip', 'r') as zip_ref:\n",
    "    zip_ref.extractall('global-daily-climate-data')\n",
    "files = os.listdir('global-daily-climate-data')\n",
    "print(files)"
   ]
  },
  {
   "cell_type": "markdown",
   "id": "11cf8d10-b2d2-4e73-a159-a422e88744a4",
   "metadata": {},
   "source": [
    "<p class = \"class = \"styled-text\"\">Voilà qui est fait! Les données se trouvent enfin sur la machine.   \n",
    "Il suffit de les importer.</p>"
   ]
  },
  {
   "cell_type": "code",
   "execution_count": 5,
   "id": "1f012b87-151f-431e-ac20-6aa62dc99a9e",
   "metadata": {},
   "outputs": [
    {
     "name": "stdout",
     "output_type": "stream",
     "text": [
      "  station_id city_name       date  season  avg_temp_c  min_temp_c  max_temp_c  \\\n",
      "0      41515  Asadabad 1957-07-01  Summer        27.0        21.1        35.6   \n",
      "1      41515  Asadabad 1957-07-02  Summer        22.8        18.9        32.2   \n",
      "2      41515  Asadabad 1957-07-03  Summer        24.3        16.7        35.6   \n",
      "3      41515  Asadabad 1957-07-04  Summer        26.6        16.1        37.8   \n",
      "4      41515  Asadabad 1957-07-05  Summer        30.8        20.0        41.7   \n",
      "\n",
      "   precipitation_mm  snow_depth_mm  avg_wind_dir_deg  avg_wind_speed_kmh  \\\n",
      "0               0.0            NaN               NaN                 NaN   \n",
      "1               0.0            NaN               NaN                 NaN   \n",
      "2               1.0            NaN               NaN                 NaN   \n",
      "3               4.1            NaN               NaN                 NaN   \n",
      "4               0.0            NaN               NaN                 NaN   \n",
      "\n",
      "   peak_wind_gust_kmh  avg_sea_level_pres_hpa  sunshine_total_min  \n",
      "0                 NaN                     NaN                 NaN  \n",
      "1                 NaN                     NaN                 NaN  \n",
      "2                 NaN                     NaN                 NaN  \n",
      "3                 NaN                     NaN                 NaN  \n",
      "4                 NaN                     NaN                 NaN  \n"
     ]
    }
   ],
   "source": [
    "# Chemin vers votre fichier Parquet\n",
    "chemin_parquet = \"global-daily-climate-data/daily_weather.parquet\"\n",
    "\n",
    "# Lire le fichier Parquet avec Pandas\n",
    "df = pd.read_parquet(chemin_parquet, engine='pyarrow')\n",
    "\n",
    "# Afficher les premières lignes du DataFrame\n",
    "print(df.head())\n",
    "\n",
    "# Afficher les schémas des colonnes\n",
    "#print(df.info())\n"
   ]
  },
  {
   "cell_type": "code",
   "execution_count": 7,
   "id": "42d50efe-4e5f-43e5-a7ca-8359c4e0aaeb",
   "metadata": {},
   "outputs": [
    {
     "name": "stdout",
     "output_type": "stream",
     "text": [
      "  station_id   city_name      country       state iso2 iso3   latitude  \\\n",
      "0      41515    Asadabad  Afghanistan       Kunar   AF  AFG  34.866000   \n",
      "1      38954    Fayzabad  Afghanistan  Badakhshan   AF  AFG  37.129761   \n",
      "2      41560   Jalalabad  Afghanistan   Nangarhar   AF  AFG  34.441527   \n",
      "3      38947      Kunduz  Afghanistan      Kunduz   AF  AFG  36.727951   \n",
      "4      38987  Qala i Naw  Afghanistan     Badghis   AF  AFG  34.983000   \n",
      "\n",
      "   longitude  \n",
      "0  71.150005  \n",
      "1  70.579247  \n",
      "2  70.436103  \n",
      "3  68.872530  \n",
      "4  63.133300  \n",
      "<class 'pandas.core.frame.DataFrame'>\n",
      "RangeIndex: 1245 entries, 0 to 1244\n",
      "Data columns (total 8 columns):\n",
      " #   Column      Non-Null Count  Dtype  \n",
      "---  ------      --------------  -----  \n",
      " 0   station_id  1245 non-null   object \n",
      " 1   city_name   1244 non-null   object \n",
      " 2   country     1245 non-null   object \n",
      " 3   state       1217 non-null   object \n",
      " 4   iso2        1239 non-null   object \n",
      " 5   iso3        1245 non-null   object \n",
      " 6   latitude    1245 non-null   float64\n",
      " 7   longitude   1245 non-null   float64\n",
      "dtypes: float64(2), object(6)\n",
      "memory usage: 77.9+ KB\n",
      "None\n"
     ]
    }
   ],
   "source": [
    "chemin_cities = \"global-daily-climate-data/cities.csv\"\n",
    "\n",
    "df_cities = pd.read_csv(chemin_cities)\n",
    "\n",
    "print(df_cities.head())\n",
    "\n",
    "print(df_cities.info())\n"
   ]
  },
  {
   "cell_type": "code",
   "execution_count": 42,
   "id": "7b9ca6fb-1c06-4c37-b26c-a88f36a6300d",
   "metadata": {},
   "outputs": [],
   "source": [
    "chemin_countries = \"global-daily-climate-data/countries.csv\"\n",
    "\n",
    "df_countries = pd.read_csv(chemin_countries)\n",
    "\n",
    "#print(df_countries.head())\n",
    "\n",
    "#print(df_countries.info())"
   ]
  },
  {
   "cell_type": "markdown",
   "id": "3ba67043-fdb8-4264-b4c9-7d7594a953ed",
   "metadata": {},
   "source": [
    "<h2 class = \"styled-subtitle\">2.2 Description des données</h2>"
   ]
  },
  {
   "cell_type": "markdown",
   "id": "8654b1a1-413a-4119-80a7-a9d8b1b212df",
   "metadata": {},
   "source": [
    "<h3 class = \"styles sub-subtitle\">2.2.1 Les variables de la base principale</h3>"
   ]
  },
  {
   "cell_type": "markdown",
   "id": "38b3649e-30fe-4d73-b6a7-1f97fe5bd37c",
   "metadata": {},
   "source": [
    "Dans cette base, il y a 15 variables dont on peut décrire de la façon suivante: \n",
    "* station_id: c'est l'identifiant de la station. Elle est de type string (nullable = true)\n",
    "* city_name: string (nullable = true)\n",
    "* date: timestamp_ntz (nullable = true)\n",
    "* season: string (nullable = true)\n",
    "* avg_temp_c: double (nullable = true)\n",
    "* min_temp_c: double (nullable = true)\n",
    "* max_temp_c: double (nullable = true)\n",
    "* precipitation_mm: double (nullable = true)\n",
    "* snow_depth_mm: double (nullable = true)\n",
    "* avg_wind_dir_deg: double (nullable = true)\n",
    "* avg_wind_speed_kmh: double (nullable = true)\n",
    "* peak_wind_gust_kmh: double (nullable = true)\n",
    "* avg_sea_level_pres_hpa: double (nullable = true)\n",
    "* sunshine_total_min: double (nullable = true)\n",
    "* index_level_0__: long (nullable = true)"
   ]
  },
  {
   "cell_type": "markdown",
   "id": "e207946d-284f-4519-987c-d70742a3847d",
   "metadata": {},
   "source": [
    "<h3 class = \"styled sub-subtitle\">2.2.2 Les variables de la base countries</h3>"
   ]
  },
  {
   "cell_type": "markdown",
   "id": "8ce3e186-bc70-4ccf-8490-6ed8113345aa",
   "metadata": {},
   "source": [
    "\n",
    "* country: string (nullable = true)\n",
    "* native_name: string (nullable = true)\n",
    "* iso2: string (nullable = true)\n",
    "* iso3: string (nullable = true)\n",
    "* population: double (nullable = true)\n",
    "* area: double (nullable = true)\n",
    "* capital: string (nullable = true)\n",
    "* capital_lat: double (nullable = true)\n",
    "*  capital_lng: double (nullable = true)\n",
    "* region: string (nullable = true)\n",
    "* continent: string (nullable = true)"
   ]
  },
  {
   "cell_type": "markdown",
   "id": "caa9faf4-95b7-4687-b900-68bbcfb7e068",
   "metadata": {},
   "source": [
    "### 2.2.3 Les variables de la base countries"
   ]
  },
  {
   "cell_type": "markdown",
   "id": "ff3af17e-f8d9-4bda-ab3f-9c3ea0214f9e",
   "metadata": {},
   "source": [
    "* station_id: string (nullable = true)\n",
    "* city_name: string (nullable = true)\n",
    "* country: string (nullable = true)\n",
    "* state: string (nullable = true)\n",
    "* iso2: string (nullable = true)\n",
    "* iso3: string (nullable = true)\n",
    "* latitude: double (nullable = true)\n",
    "* longitude: double (nullable = true)\n"
   ]
  },
  {
   "cell_type": "markdown",
   "id": "6de4b778-a844-4700-8523-24b89c3b538e",
   "metadata": {},
   "source": [
    "<h1 class = \"styled-title>3. TRAITEMENT DES DONNÉES</h1>"
   ]
  },
  {
   "cell_type": "markdown",
   "id": "655afede-4c84-4f5d-b610-56acae3620b8",
   "metadata": {},
   "source": [
    "<h2 class = \"styled-subtitle\">3. 1 Extraction des données de la CEDEAO</h2>"
   ]
  },
  {
   "cell_type": "markdown",
   "id": "250580d5-96fe-41a6-bc83-97b61546b170",
   "metadata": {},
   "source": [
    "A travers ce code, nous allons chercher les pays de la CEDEAO dans la base qui contient les pays. Et nous mettrons dans **df_afrique_ouest**."
   ]
  },
  {
   "cell_type": "code",
   "execution_count": 8,
   "id": "812f45be-ed09-41b4-85f2-1632634c3d74",
   "metadata": {},
   "outputs": [
    {
     "name": "stdout",
     "output_type": "stream",
     "text": [
      "    station_id       city_name       country    state iso2 iso3   latitude  \\\n",
      "106      65338          Abomey         Benin      Zou   BJ  BEN   7.190400   \n",
      "107      65344         Cotonou         Benin    Ouémé   BJ  BEN   6.400009   \n",
      "108      65319      Natitingou         Benin  Atakora   BJ  BEN  10.320415   \n",
      "109      65330         Parakou         Benin   Borgou   BJ  BEN   9.340010   \n",
      "140      65510  Bobo Dioulasso  Burkina Faso    Houet   BF  BFA  11.179975   \n",
      "\n",
      "     longitude  \n",
      "106   1.989997  \n",
      "107   2.519991  \n",
      "108   1.389982  \n",
      "109   2.620036  \n",
      "140  -4.289981  \n"
     ]
    }
   ],
   "source": [
    "pays_afrique_ouest = [\n",
    "    \"Benin\", \"Burkina Faso\", \"Cape Verde\", \"Ivory Coast\", \n",
    "    \"The Gambia\", \"Ghana\", \"Guinea\", \"Guinea Bissau\", \n",
    "    \"Liberia\", \"Mali\", \"Niger\", \"Nigeria\", \n",
    "    \"Senegal\", \"Sierra Leone\", \"Togo\"\n",
    "]\n",
    "\n",
    "# Filtrer le DataFrame pour obtenir uniquement les pays d'Afrique de l'Ouest\n",
    "df_afrique_ouest = df_cities[df_cities['country'].isin(pays_afrique_ouest)]\n",
    "\n",
    "print(df_afrique_ouest.head())\n"
   ]
  },
  {
   "cell_type": "markdown",
   "id": "cb6ca983-82c0-42e4-be12-273764785fde",
   "metadata": {},
   "source": [
    "**Fusions des deux bases**"
   ]
  },
  {
   "cell_type": "code",
   "execution_count": 9,
   "id": "8a151e47-28ad-4689-8ff9-a9bf5a2d0cb2",
   "metadata": {},
   "outputs": [
    {
     "name": "stdout",
     "output_type": "stream",
     "text": [
      "Index(['station_id', 'city_name', 'date', 'season', 'avg_temp_c', 'min_temp_c',\n",
      "       'max_temp_c', 'precipitation_mm', 'snow_depth_mm', 'avg_wind_dir_deg',\n",
      "       'avg_wind_speed_kmh', 'peak_wind_gust_kmh', 'avg_sea_level_pres_hpa',\n",
      "       'sunshine_total_min'],\n",
      "      dtype='object')\n",
      "Index(['station_id', 'city_name', 'country', 'state', 'iso2', 'iso3',\n",
      "       'latitude', 'longitude'],\n",
      "      dtype='object')\n"
     ]
    }
   ],
   "source": [
    "#Affichons les variables des base pays_afrique_ouest et la base principale\n",
    "print(df.columns)\n",
    "print(df_afrique_ouest.columns)"
   ]
  },
  {
   "cell_type": "markdown",
   "id": "957ac15b-ed81-45f2-8705-f4dbbb6da914",
   "metadata": {},
   "source": [
    "Nous pouvons remarquer qu'on peut faire la jointure via les variables station_idet city_name.  Seules les lignes qui ont des valeurs correspondantes dans les deux DataFrames seront conservées dans **pays_CEDEAO**. Après quoi, nous supprimerons les doublons. Le *iner* indique que l'on souhaite réaliser une jointure interne."
   ]
  },
  {
   "cell_type": "code",
   "execution_count": 10,
   "id": "cbb59cef-042c-4ccf-bb87-9a792d6285b9",
   "metadata": {},
   "outputs": [],
   "source": [
    "# Fusion sur 'station_id' et 'city_name'\n",
    "pays_CEDEAO = pd.merge(\n",
    "    df_afrique_ouest,\n",
    "    df,\n",
    "    on=['station_id', 'city_name'],\n",
    "    how='inner'\n",
    ")\n",
    "\n",
    "# Suppression des doublons après la jointure\n",
    "# Conserver uniquement les colonnes non dupliquées\n",
    "pays_CEDEAO = pays_CEDEAO.loc[:, ~pays_CEDEAO.columns.duplicated()]\n",
    "\n",
    "# Afficher le DataFrame fusionné\n",
    "#print(\"DataFrame fusionné :\")\n",
    "#print(pays_CEDEAO.head())\n"
   ]
  },
  {
   "cell_type": "markdown",
   "id": "5e4b440f-0084-4dea-aa87-1a076346feb7",
   "metadata": {},
   "source": [
    "**Renomage des variables** "
   ]
  },
  {
   "cell_type": "code",
   "execution_count": 11,
   "id": "9258aeab-da11-47e6-950d-31d1c0c8c784",
   "metadata": {},
   "outputs": [
    {
     "name": "stdout",
     "output_type": "stream",
     "text": [
      "Noms des colonnes après renommage :\n",
      "Index(['id_station', 'nom_ville', 'pays', 'etat', 'iso2', 'iso3', 'latitude',\n",
      "       'longitude', 'date', 'saison', 'temp_moyenne_c', 'temp_min_c',\n",
      "       'temp_max_c', 'precipitation_mm', 'profondeur_neige_mm',\n",
      "       'direction_vent_moyenne_deg', 'vitesse_vent_moyenne_kmh',\n",
      "       'rafale_vent_max_kmh', 'pression_niveau_mer_hpa',\n",
      "       'ensoleillement_total_min'],\n",
      "      dtype='object')\n"
     ]
    }
   ],
   "source": [
    "# Dictionnaire de correspondance pour renommer les colonnes en français\n",
    "noms_colonnes_francais = {\n",
    "    'station_id': 'id_station',\n",
    "    'city_name': 'nom_ville',\n",
    "    'date': 'date',\n",
    "    'season': 'saison',\n",
    "    'avg_temp_c': 'temp_moyenne_c',\n",
    "    'min_temp_c': 'temp_min_c',\n",
    "    'max_temp_c': 'temp_max_c',\n",
    "    'precipitation_mm': 'precipitation_mm',\n",
    "    'snow_depth_mm': 'profondeur_neige_mm',\n",
    "    'avg_wind_dir_deg': 'direction_vent_moyenne_deg',\n",
    "    'avg_wind_speed_kmh': 'vitesse_vent_moyenne_kmh',\n",
    "    'peak_wind_gust_kmh': 'rafale_vent_max_kmh',\n",
    "    'avg_sea_level_pres_hpa': 'pression_niveau_mer_hpa',\n",
    "    'sunshine_total_min': 'ensoleillement_total_min',\n",
    "    '__index_level_0__': 'index',\n",
    "    'country': 'pays',\n",
    "    'state': 'etat',\n",
    "    'iso2': 'iso2',\n",
    "    'iso3': 'iso3',\n",
    "    'latitude': 'latitude',\n",
    "    'longitude': 'longitude'\n",
    "}\n",
    "\n",
    "# Renommer les colonnes\n",
    "pays_CEDEAO = pays_CEDEAO.rename(columns=noms_colonnes_francais)\n",
    "\n",
    "# Afficher les noms des nouvelles colonnes\n",
    "print(\"Noms des colonnes après renommage :\")\n",
    "print(pays_CEDEAO.columns)\n"
   ]
  },
  {
   "cell_type": "markdown",
   "id": "f934e510-9f87-43c2-9f20-93bfff45faa4",
   "metadata": {},
   "source": [
    "<h3 class = \"styled-sub-subtitle\">Pourcentage de valeurs manquantes dans la base pays_CEDEAO</h3>"
   ]
  },
  {
   "cell_type": "markdown",
   "id": "1f816816-6d4e-4461-9404-3f887e9e281f",
   "metadata": {},
   "source": [
    "<h1 class = \"styled-title\">3.TRAITEMENT DES DONNEES</h1>"
   ]
  },
  {
   "cell_type": "markdown",
   "id": "3ef36d1b-b9e9-4d9c-ae5d-b3a167cb9a9d",
   "metadata": {},
   "source": [
    "<h2 class = \"styled-subtitle\">3.1 Traitement des variables température moyenne, température maximale et température minimale</h2>"
   ]
  },
  {
   "cell_type": "markdown",
   "id": "0ea81459-07dc-48c0-aeb2-e98cb1b5b9a3",
   "metadata": {},
   "source": [
    "<h3 class = \"styled-sub-subtitle\">Vérifions les doublons</h3>"
   ]
  },
  {
   "cell_type": "markdown",
   "id": "e0dbb0aa-069b-42e7-84aa-0c34d0496585",
   "metadata": {},
   "source": [
    "Avant toute chose, il est important de savoir si on a des doublons ou pas."
   ]
  },
  {
   "cell_type": "code",
   "execution_count": 12,
   "id": "772cb7f2-18aa-4ec1-a855-e23aefb151be",
   "metadata": {},
   "outputs": [
    {
     "name": "stdout",
     "output_type": "stream",
     "text": [
      "Il n'y a pas de doublons dans la base.\n"
     ]
    }
   ],
   "source": [
    "# Compter le nombre total de lignes\n",
    "total_count = len(pays_CEDEAO)\n",
    "\n",
    "# Compter le nombre de lignes sans doublons\n",
    "distinct_count = len(pays_CEDEAO.drop_duplicates())\n",
    "\n",
    "# Vérifier s'il y a des doublons\n",
    "if total_count > distinct_count:\n",
    "    print(\"Il y a des doublons dans la base.\")\n",
    "else:\n",
    "    print(\"Il n'y a pas de doublons dans la base.\")\n"
   ]
  },
  {
   "cell_type": "markdown",
   "id": "54d7f5f7-dc83-4112-939a-db8f67879e5b",
   "metadata": {},
   "source": [
    "**[Revenir à la table des matières](#TABLES-DES-MATIERES)**"
   ]
  },
  {
   "cell_type": "markdown",
   "id": "0401c243-2884-4ffb-bfd9-99920d5767ab",
   "metadata": {},
   "source": [
    "<h3 class = \"styled-sub-subtitle\">Vérifions la présence de valeurs manquantes</h3>"
   ]
  },
  {
   "cell_type": "markdown",
   "id": "7b013120-ff46-4718-8452-5ff4f5c4873d",
   "metadata": {},
   "source": [
    "Puis, chercher à savoir s'il ya des valeurs manquantes. "
   ]
  },
  {
   "cell_type": "code",
   "execution_count": 13,
   "id": "3689a0bb-5065-4504-8c73-59739d9361f4",
   "metadata": {},
   "outputs": [
    {
     "name": "stdout",
     "output_type": "stream",
     "text": [
      "id_station: 0 valeurs manquantes\n",
      "nom_ville: 0 valeurs manquantes\n",
      "pays: 0 valeurs manquantes\n",
      "etat: 6463 valeurs manquantes\n",
      "iso2: 0 valeurs manquantes\n",
      "iso3: 0 valeurs manquantes\n",
      "latitude: 0 valeurs manquantes\n",
      "longitude: 0 valeurs manquantes\n",
      "date: 0 valeurs manquantes\n",
      "saison: 0 valeurs manquantes\n",
      "temp_moyenne_c: 188017 valeurs manquantes\n",
      "temp_min_c: 227524 valeurs manquantes\n",
      "temp_max_c: 170517 valeurs manquantes\n",
      "precipitation_mm: 599391 valeurs manquantes\n",
      "profondeur_neige_mm: 1185080 valeurs manquantes\n",
      "direction_vent_moyenne_deg: 1073609 valeurs manquantes\n",
      "vitesse_vent_moyenne_kmh: 1051776 valeurs manquantes\n",
      "rafale_vent_max_kmh: 1185080 valeurs manquantes\n",
      "pression_niveau_mer_hpa: 1076835 valeurs manquantes\n",
      "ensoleillement_total_min: 1185080 valeurs manquantes\n"
     ]
    }
   ],
   "source": [
    "# Vérifier les valeurs manquantes dans chaque colonne\n",
    "valeurs_manquantes = pays_CEDEAO.isnull().sum()\n",
    "\n",
    "# Afficher le nombre de valeurs manquantes par colonne\n",
    "for colonne, valeurs in valeurs_manquantes.items():\n",
    "    print(f\"{colonne}: {valeurs} valeurs manquantes\")\n"
   ]
  },
  {
   "cell_type": "markdown",
   "id": "320b3cf4-6b9b-442c-99be-f623ad1ab782",
   "metadata": {},
   "source": [
    "<p class =\"styled-text\">Il s'est avéré qu'il y a beaucoup de valeurs manquantes. Nous allons devoir les gérer.</p>"
   ]
  },
  {
   "cell_type": "markdown",
   "id": "2c43e409-b289-4704-97d6-f56640219a7e",
   "metadata": {},
   "source": [
    "**[Revenir à la table des matières](#TABLES-DES-MATIERES)**"
   ]
  },
  {
   "cell_type": "markdown",
   "id": "ab14cc71-7c98-4265-be94-1cca1a94a43b",
   "metadata": {},
   "source": [
    "<h3 class = \"styled-sub-subtitle\">Suppression de certaines variables</h3>"
   ]
  },
  {
   "cell_type": "markdown",
   "id": "96597410-feb9-4785-b7d4-d1157fb11552",
   "metadata": {},
   "source": [
    "<p class =\"styled-text\">Le champ de notre étude ne couvre pas l'ensoleillemnt et le vent. Il est donc unitile de les garder dans la base.</p>"
   ]
  },
  {
   "cell_type": "code",
   "execution_count": 14,
   "id": "857abf0a-aac4-4f45-94c5-f746ecfd347b",
   "metadata": {},
   "outputs": [
    {
     "name": "stdout",
     "output_type": "stream",
     "text": [
      "Index(['id_station', 'nom_ville', 'pays', 'etat', 'iso2', 'iso3', 'latitude',\n",
      "       'longitude', 'date', 'saison', 'temp_moyenne_c', 'temp_min_c',\n",
      "       'temp_max_c', 'precipitation_mm', 'vitesse_vent_moyenne_kmh'],\n",
      "      dtype='object')\n"
     ]
    }
   ],
   "source": [
    "# Supprimer les colonnes spécifiques\n",
    "pays_CEDEAO = pays_CEDEAO.drop(columns=['ensoleillement_total_min', 'rafale_vent_max_kmh', 'profondeur_neige_mm', 'pression_niveau_mer_hpa', 'direction_vent_moyenne_deg'])\n",
    "\n",
    "# Vérifier que les colonnes ont bien été supprimées\n",
    "print(pays_CEDEAO.columns)\n"
   ]
  },
  {
   "cell_type": "markdown",
   "id": "b52a8ec4-5188-4c97-b86f-80eca9f0f007",
   "metadata": {},
   "source": [
    "**[Revenir à la table des matières](#TABLES-DES-MATIERES)**"
   ]
  },
  {
   "cell_type": "markdown",
   "id": "919af077-4899-43f6-aece-aad40ad6bd16",
   "metadata": {},
   "source": [
    "<h3 class = \"styled-sub-subtitle\">Vérifions la présence de valeurs aberrantes</h3>"
   ]
  },
  {
   "cell_type": "code",
   "execution_count": 15,
   "id": "b76a7a1f-c0b8-4537-9735-ab104b9ba009",
   "metadata": {},
   "outputs": [
    {
     "data": {
      "image/png": "[encoded data removed]",
      "text/plain": [
       "<Figure size 1200x600 with 1 Axes>"
      ]
     },
     "metadata": {},
     "output_type": "display_data"
    }
   ],
   "source": [
    "import pandas as pd\n",
    "import seaborn as sns\n",
    "import matplotlib.pyplot as plt\n",
    "\n",
    "# Assurez-vous que le DataFrame pays_CEDEAO est déjà chargé et prêt à être utilisé\n",
    "\n",
    "# Affichage des boxplots pour temp_moyenne_c, temp_min_c et temp_max_c\n",
    "plt.figure(figsize=(12, 6))\n",
    "sns.boxplot(data=pays_CEDEAO[['temp_moyenne_c', 'temp_min_c', 'temp_max_c']])\n",
    "plt.title('Boxplots des Températures')\n",
    "plt.ylabel('Température (°C)')\n",
    "plt.xlabel('Variables')\n",
    "plt.xticks(ticks=[0, 1, 2], labels=['Temp. Moyenne', 'Temp. Min', 'Temp. Max'])  # Renommage des axes x\n",
    "plt.grid(True)\n",
    "plt.show()"
   ]
  },
  {
   "cell_type": "markdown",
   "id": "7ade58cc-d240-41ac-b604-d3d9c4def2f8",
   "metadata": {},
   "source": [
    "<p class = \"styled-text\">Apparemment il y a des jours où il y a eu plus de 60°C. Est-ce normal?</p>"
   ]
  },
  {
   "cell_type": "code",
   "execution_count": 17,
   "id": "252a02b9-bf8b-41ea-b1ee-f2508377a69f",
   "metadata": {},
   "outputs": [
    {
     "name": "stdout",
     "output_type": "stream",
     "text": [
      "Déciles des variables de température :\n",
      "          temp_moyenne_c  temp_min_c  temp_max_c\n",
      "Décile 1            24.2        17.5        28.5\n",
      "Décile 2            25.3        19.6        30.0\n",
      "Décile 3            26.1        20.9        31.2\n",
      "Décile 4            26.8        21.6        32.2\n",
      "Décile 5            27.5        22.4        33.2\n",
      "Décile 6            28.2        23.0        34.4\n",
      "Décile 7            29.1        23.8        35.6\n",
      "Décile 8            30.2        24.6        37.2\n",
      "Décile 9            32.2        26.0        39.4\n"
     ]
    }
   ],
   "source": [
    "# Calculer les déciles pour les trois variables\n",
    "deciles = pays_CEDEAO[['temp_moyenne_c', 'temp_min_c', 'temp_max_c']].quantile([0.1, 0.2, 0.3, 0.4, 0.5, 0.6, 0.7, 0.8, 0.9])\n",
    "\n",
    "# Renommer les index pour plus de clarté\n",
    "deciles.index = [f'Décile {int(d * 10)}' for d in deciles.index]\n",
    "\n",
    "# Afficher les déciles dans un tableau\n",
    "print(\"Déciles des variables de température :\")\n",
    "print(deciles)"
   ]
  },
  {
   "cell_type": "code",
   "execution_count": 18,
   "id": "89da0ad6-bf2c-45b2-b26c-848812b97051",
   "metadata": {},
   "outputs": [
    {
     "name": "stdout",
     "output_type": "stream",
     "text": [
      "Nombre de villes où la température maximale dépasse 50°C : 7\n",
      "Nombre de villes où la température minimale est inférieure à 5°C : 16\n"
     ]
    }
   ],
   "source": [
    "# Base de données pour les villes où la température maximale dépasse 50 °C\n",
    "villes_temp_max_50 = pays_CEDEAO[pays_CEDEAO[\"temp_max_c\"] > 50][[\"nom_ville\", \"date\"]].drop_duplicates()\n",
    "nb_villes_temp_max_50 = villes_temp_max_50[\"nom_ville\"].nunique()\n",
    "print(f\"Nombre de villes où la température maximale dépasse 50°C : {nb_villes_temp_max_50}\")\n",
    "\n",
    "# Base de données pour les villes où la température minimale est inférieure à 5 °C\n",
    "villes_temp_min_5 = pays_CEDEAO[pays_CEDEAO[\"temp_min_c\"] < 5][[\"nom_ville\", \"date\"]].drop_duplicates()\n",
    "nb_villes_temp_min_5 = villes_temp_min_5[\"nom_ville\"].nunique()\n",
    "print(f\"Nombre de villes où la température minimale est inférieure à 5°C : {nb_villes_temp_min_5}\")\n"
   ]
  },
  {
   "cell_type": "code",
   "execution_count": 19,
   "id": "882a372c-ac2e-4e19-89cb-0b02b17a88ed",
   "metadata": {},
   "outputs": [
    {
     "name": "stdout",
     "output_type": "stream",
     "text": [
      "Nombre d'observations avec des valeurs aberrantes : 42\n"
     ]
    }
   ],
   "source": [
    "# Détection des valeurs aberrantes basées sur les nouvelles plages réalistes\n",
    "outliers_realistes = pays_CEDEAO[\n",
    "    (pays_CEDEAO[\"temp_moyenne_c\"] < 5) | (pays_CEDEAO[\"temp_moyenne_c\"] > 50) |  # Température moyenne\n",
    "    (pays_CEDEAO[\"temp_min_c\"] < 5) | (pays_CEDEAO[\"temp_min_c\"] > 40) |          # Température minimale\n",
    "    (pays_CEDEAO[\"temp_max_c\"] < 15) | (pays_CEDEAO[\"temp_max_c\"] > 50)           # Température maximale\n",
    "]\n",
    "\n",
    "# Afficher le nombre d'observations avec des valeurs aberrantes\n",
    "nombre_outliers = len(outliers_realistes)\n",
    "print(f\"Nombre d'observations avec des valeurs aberrantes : {nombre_outliers}\")\n",
    "\n",
    "# Afficher les valeurs aberrantes (décommenter pour voir les valeurs)\n",
    "# print(outliers_realistes)\n"
   ]
  },
  {
   "cell_type": "markdown",
   "id": "b54312f5-a750-4e14-8b0e-f7049545b3c8",
   "metadata": {},
   "source": [
    "<h3 class = \"styled-sub-subtitle\">Taille de la base</h3>"
   ]
  },
  {
   "cell_type": "code",
   "execution_count": 20,
   "id": "f48b7748-231c-4913-9fb6-22ae1df04295",
   "metadata": {},
   "outputs": [
    {
     "name": "stdout",
     "output_type": "stream",
     "text": [
      "La taille de la base pays_CEDEAO est : 1185080 lignes.\n"
     ]
    }
   ],
   "source": [
    "# Compter le nombre de lignes dans le DataFrame pays_CEDEAO\n",
    "taille_pays_CEDEAO = len(pays_CEDEAO)\n",
    "\n",
    "# Afficher la taille\n",
    "print(f\"La taille de la base pays_CEDEAO est : {taille_pays_CEDEAO} lignes.\")\n"
   ]
  },
  {
   "cell_type": "markdown",
   "id": "feeb731d-4079-4802-bca2-3c8851d406f6",
   "metadata": {},
   "source": [
    "<h3 class = \"styled-sub-subtitle\">Correction des valeurs aberrantes</h3>"
   ]
  },
  {
   "cell_type": "markdown",
   "id": "1c357436-4d96-46d1-ad7a-9c2814f056d1",
   "metadata": {},
   "source": [
    "<p class = \"styled-text\">Explication de la méthodologie </p>"
   ]
  },
  {
   "cell_type": "code",
   "execution_count": 21,
   "id": "32d53119-c762-4c31-b205-b54f420eeaef",
   "metadata": {},
   "outputs": [
    {
     "name": "stderr",
     "output_type": "stream",
     "text": [
      "C:\\Users\\DELL\\AppData\\Local\\Temp\\ipykernel_11824\\934519368.py:22: FutureWarning: The default of observed=False is deprecated and will be changed to True in a future version of pandas. Pass observed=False to retain current behavior or observed=True to adopt the future default and silence this warning.\n",
      "  pays_CEDEAO.groupby(['pays', 'id_station', 'annee', 'saison'])[colonne]\n"
     ]
    },
    {
     "name": "stdout",
     "output_type": "stream",
     "text": [
      "Moyennes pour temp_moyenne_c :\n",
      "    pays id_station  annee  saison  moyenne_temp_moyenne_c\n",
      "0  Benin      08589   1906  Autumn                     NaN\n",
      "1  Benin      08589   1906  Spring                     NaN\n",
      "2  Benin      08589   1906  Summer                     NaN\n",
      "3  Benin      08589   1906  Winter                     NaN\n",
      "4  Benin      08589   1907  Autumn                     NaN\n",
      "Colonnes après jointure pour temp_moyenne_c :\n",
      "Index(['id_station', 'nom_ville', 'pays', 'etat', 'iso2', 'iso3', 'latitude',\n",
      "       'longitude', 'date', 'saison', 'temp_moyenne_c', 'temp_min_c',\n",
      "       'temp_max_c', 'precipitation_mm', 'vitesse_vent_moyenne_kmh', 'annee',\n",
      "       'moyenne_temp_moyenne_c'],\n",
      "      dtype='object')\n"
     ]
    },
    {
     "name": "stderr",
     "output_type": "stream",
     "text": [
      "C:\\Users\\DELL\\AppData\\Local\\Temp\\ipykernel_11824\\934519368.py:22: FutureWarning: The default of observed=False is deprecated and will be changed to True in a future version of pandas. Pass observed=False to retain current behavior or observed=True to adopt the future default and silence this warning.\n",
      "  pays_CEDEAO.groupby(['pays', 'id_station', 'annee', 'saison'])[colonne]\n"
     ]
    },
    {
     "name": "stdout",
     "output_type": "stream",
     "text": [
      "Moyennes pour temp_min_c :\n",
      "    pays id_station  annee  saison  moyenne_temp_min_c\n",
      "0  Benin      08589   1906  Autumn                 NaN\n",
      "1  Benin      08589   1906  Spring                 NaN\n",
      "2  Benin      08589   1906  Summer                 NaN\n",
      "3  Benin      08589   1906  Winter                 NaN\n",
      "4  Benin      08589   1907  Autumn                 NaN\n",
      "Colonnes après jointure pour temp_min_c :\n",
      "Index(['id_station', 'nom_ville', 'pays', 'etat', 'iso2', 'iso3', 'latitude',\n",
      "       'longitude', 'date', 'saison', 'temp_moyenne_c', 'temp_min_c',\n",
      "       'temp_max_c', 'precipitation_mm', 'vitesse_vent_moyenne_kmh', 'annee',\n",
      "       'moyenne_temp_min_c'],\n",
      "      dtype='object')\n"
     ]
    },
    {
     "name": "stderr",
     "output_type": "stream",
     "text": [
      "C:\\Users\\DELL\\AppData\\Local\\Temp\\ipykernel_11824\\934519368.py:22: FutureWarning: The default of observed=False is deprecated and will be changed to True in a future version of pandas. Pass observed=False to retain current behavior or observed=True to adopt the future default and silence this warning.\n",
      "  pays_CEDEAO.groupby(['pays', 'id_station', 'annee', 'saison'])[colonne]\n"
     ]
    },
    {
     "name": "stdout",
     "output_type": "stream",
     "text": [
      "Moyennes pour temp_max_c :\n",
      "    pays id_station  annee  saison  moyenne_temp_max_c\n",
      "0  Benin      08589   1906  Autumn                 NaN\n",
      "1  Benin      08589   1906  Spring                 NaN\n",
      "2  Benin      08589   1906  Summer                 NaN\n",
      "3  Benin      08589   1906  Winter                 NaN\n",
      "4  Benin      08589   1907  Autumn                 NaN\n",
      "Colonnes après jointure pour temp_max_c :\n",
      "Index(['id_station', 'nom_ville', 'pays', 'etat', 'iso2', 'iso3', 'latitude',\n",
      "       'longitude', 'date', 'saison', 'temp_moyenne_c', 'temp_min_c',\n",
      "       'temp_max_c', 'precipitation_mm', 'vitesse_vent_moyenne_kmh', 'annee',\n",
      "       'moyenne_temp_max_c'],\n",
      "      dtype='object')\n",
      "        id_station nom_ville   pays    etat iso2 iso3  latitude  longitude  \\\n",
      "0            65338    Abomey  Benin     Zou   BJ  BEN  7.190400   1.989997   \n",
      "1            65338    Abomey  Benin     Zou   BJ  BEN  7.190400   1.989997   \n",
      "2            65338    Abomey  Benin     Zou   BJ  BEN  7.190400   1.989997   \n",
      "3            65338    Abomey  Benin     Zou   BJ  BEN  7.190400   1.989997   \n",
      "4            65338    Abomey  Benin     Zou   BJ  BEN  7.190400   1.989997   \n",
      "...            ...       ...    ...     ...  ...  ...       ...        ...   \n",
      "1185075      65361    Sokodé   Togo  Centre   TG  TGO  8.990471   1.149997   \n",
      "1185076      65361    Sokodé   Togo  Centre   TG  TGO  8.990471   1.149997   \n",
      "1185077      65361    Sokodé   Togo  Centre   TG  TGO  8.990471   1.149997   \n",
      "1185078      65361    Sokodé   Togo  Centre   TG  TGO  8.990471   1.149997   \n",
      "1185079      65361    Sokodé   Togo  Centre   TG  TGO  8.990471   1.149997   \n",
      "\n",
      "              date  saison  temp_moyenne_c  temp_min_c  temp_max_c  \\\n",
      "0       1973-01-02  Winter            29.0         NaN         NaN   \n",
      "1       1973-01-03  Winter            30.2         NaN         NaN   \n",
      "2       1973-01-04  Winter            30.4         NaN         NaN   \n",
      "3       1973-01-06  Winter            29.4        26.0         NaN   \n",
      "4       1973-01-07  Winter            29.3        24.0        35.0   \n",
      "...            ...     ...             ...         ...         ...   \n",
      "1185075 2023-08-24  Summer            24.8        21.9        31.9   \n",
      "1185076 2023-08-25  Summer            25.6        21.0        33.0   \n",
      "1185077 2023-08-26  Summer            24.2        21.1        29.0   \n",
      "1185078 2023-08-27  Summer            25.2        20.8        31.0   \n",
      "1185079 2023-08-28  Summer            22.8        21.0        26.6   \n",
      "\n",
      "         precipitation_mm  vitesse_vent_moyenne_kmh  annee  \n",
      "0                     NaN                       NaN   1973  \n",
      "1                     NaN                       NaN   1973  \n",
      "2                     NaN                       NaN   1973  \n",
      "3                     NaN                       NaN   1973  \n",
      "4                     NaN                       NaN   1973  \n",
      "...                   ...                       ...    ...  \n",
      "1185075               0.5                       6.0   2023  \n",
      "1185076               4.9                       6.1   2023  \n",
      "1185077              27.3                       6.8   2023  \n",
      "1185078               2.6                       5.4   2023  \n",
      "1185079              23.1                       5.4   2023  \n",
      "\n",
      "[1185080 rows x 16 columns]\n"
     ]
    }
   ],
   "source": [
    "import numpy as np\n",
    "\n",
    "# Liste des colonnes à corriger\n",
    "colonnes_a_corriger = ['temp_moyenne_c', 'temp_min_c', 'temp_max_c']\n",
    "\n",
    "# Définir les plages réalistes pour les températures\n",
    "plages_realistes = {\n",
    "    'temp_moyenne_c': (5, 50),\n",
    "    'temp_min_c': (5, 40),\n",
    "    'temp_max_c': (15, 50)\n",
    "}\n",
    "\n",
    "# Créer une colonne 'annee' dans pays_CEDEAO\n",
    "pays_CEDEAO['annee'] = pd.to_datetime(pays_CEDEAO['date']).dt.year\n",
    "\n",
    "for colonne in colonnes_a_corriger:\n",
    "    # Définir les limites inférieures et supérieures de la plage réaliste pour chaque colonne\n",
    "    limite_inferieure, limite_superieure = plages_realistes[colonne]\n",
    "\n",
    "    # Calculer la moyenne pour chaque combinaison de pays, id_station, année et saison\n",
    "    moyennes_df = (\n",
    "        pays_CEDEAO.groupby(['pays', 'id_station', 'annee', 'saison'])[colonne]\n",
    "        .mean()\n",
    "        .reset_index()\n",
    "        .rename(columns={colonne: f'moyenne_{colonne}'})\n",
    "    )\n",
    "\n",
    "    # Vérifier le DataFrame des moyennes\n",
    "    print(f\"Moyennes pour {colonne} :\")\n",
    "    print(moyennes_df.head())  # Afficher les premières lignes pour vérification\n",
    "\n",
    "    # Effectuer une jointure pour remplacer les valeurs aberrantes\n",
    "    pays_CEDEAO = pays_CEDEAO.merge(\n",
    "        moyennes_df,\n",
    "        on=['pays', 'id_station', 'annee', 'saison'],\n",
    "        how='left'\n",
    "    )\n",
    "\n",
    "    # Vérifier les colonnes après la jointure\n",
    "    print(f\"Colonnes après jointure pour {colonne} :\")\n",
    "    print(pays_CEDEAO.columns)  # Afficher les colonnes\n",
    "\n",
    "    # Utiliser NumPy pour remplacer les valeurs aberrantes par la moyenne\n",
    "    condition_aberrante = (pays_CEDEAO[colonne] < limite_inferieure) | (pays_CEDEAO[colonne] > limite_superieure)\n",
    "    pays_CEDEAO[colonne] = np.where(condition_aberrante, pays_CEDEAO[f'moyenne_{colonne}'], pays_CEDEAO[colonne])\n",
    "\n",
    "    # Supprimer la colonne de moyenne après utilisation\n",
    "    pays_CEDEAO.drop(columns=[f'moyenne_{colonne}'], inplace=True)\n",
    "\n",
    "# Afficher le DataFrame final corrigé\n",
    "print(pays_CEDEAO)\n"
   ]
  },
  {
   "cell_type": "markdown",
   "id": "46f9edae-9429-4fa6-8f80-42307937f639",
   "metadata": {},
   "source": [
    "Ce code a pour objectif de détecter et corriger les valeurs aberrantes dans les colonnes de température d'un DataFrame. Les valeurs aberrantes sont remplacées par la moyenne des températures calculée pour chaque groupe défini par le pays, la station, l'année et la saison. Cela permet d'obtenir des données plus fiables pour une analyse ultérieure."
   ]
  },
  {
   "cell_type": "markdown",
   "id": "f033158f-2c6a-44ea-97be-8bd88af4403f",
   "metadata": {},
   "source": [
    "<h3 class = \"styled-sub-subtitle\">Vérifions à nouveau la présence de valeurs aberrantes après correction</h3>"
   ]
  },
  {
   "cell_type": "markdown",
   "id": "ef0bce9a-e8e9-4983-bd43-5cdb68e150e8",
   "metadata": {},
   "source": [
    "<p class = \"styled-text\">La littérature...</p>"
   ]
  },
  {
   "cell_type": "code",
   "execution_count": 23,
   "id": "a6f2f745-7984-4106-a470-931c61364b3e",
   "metadata": {},
   "outputs": [
    {
     "name": "stdout",
     "output_type": "stream",
     "text": [
      "Valeurs aberrantes basées sur des plages réalistes :\n",
      "       id_station nom_ville    pays  etat iso2 iso3   latitude  longitude  \\\n",
      "345309      61809      Labé  Guinea  Labe   GN  GIN  11.319992 -12.300009   \n",
      "\n",
      "             date  saison  temp_moyenne_c  temp_min_c  temp_max_c  \\\n",
      "345309 2001-01-24  Winter            20.1         4.0         NaN   \n",
      "\n",
      "        precipitation_mm  vitesse_vent_moyenne_kmh  annee  \n",
      "345309               NaN                       NaN   2001  \n",
      "Nombre d'observations avec des valeurs aberrantes : 1\n"
     ]
    }
   ],
   "source": [
    "# Détection des valeurs aberrantes basées sur des plages réalistes\n",
    "outliers_realistes = pays_CEDEAO[\n",
    "    (pays_CEDEAO[\"temp_moyenne_c\"] < 5) | (pays_CEDEAO[\"temp_moyenne_c\"] > 50) |\n",
    "    (pays_CEDEAO[\"temp_min_c\"] < 5) | (pays_CEDEAO[\"temp_min_c\"] > 40) |\n",
    "    (pays_CEDEAO[\"temp_max_c\"] < 15) | (pays_CEDEAO[\"temp_max_c\"] > 50)\n",
    "]\n",
    "\n",
    "# Afficher les valeurs aberrantes\n",
    "print(\"Valeurs aberrantes basées sur des plages réalistes :\")\n",
    "print(outliers_realistes)\n",
    "\n",
    "# Compter le nombre d'observations avec des valeurs aberrantes\n",
    "nombre_outliers = outliers_realistes.shape[0]  # shape = pour obtenir le nombre de lignes\n",
    "\n",
    "# Afficher le résultat\n",
    "print(f\"Nombre d'observations avec des valeurs aberrantes : {nombre_outliers}\")\n"
   ]
  },
  {
   "cell_type": "markdown",
   "id": "4cfe0db3-da58-4be6-a298-02c91eedaecd",
   "metadata": {},
   "source": [
    "<h2 class = \"styled-subtitle\">Traitement des valeurs manquantes</h2>"
   ]
  },
  {
   "cell_type": "markdown",
   "id": "7686f728-dba7-4cf0-a2c3-20a2fcd6486f",
   "metadata": {},
   "source": [
    "<h3 class = \"styled-sub-subtitle\">Vérifions si les valeurs manquantes sont expliquées par un ou des pays spécifiques</h3>"
   ]
  },
  {
   "cell_type": "markdown",
   "id": "685b7124-2bf1-4abd-b10c-d81d6df97f9b",
   "metadata": {},
   "source": [
    "<p class = \"styled-text\">En résumé, ce code filtre le DataFrame de données sur les pays de l'Afrique de l'Ouest pour créer des DataFrames spécifiques à chaque pays. Ensuite, il compte les valeurs manquantes pour chaque colonne dans ces DataFrames et stocke ces informations dans un dictionnaire. L'affichage des résultats est prévu, mais actuellement commenté pour ne pas être exécuté.</p>"
   ]
  },
  {
   "cell_type": "code",
   "execution_count": 90,
   "id": "77b6e022-a29c-4035-aada-22b2e0be9714",
   "metadata": {},
   "outputs": [
    {
     "name": "stdout",
     "output_type": "stream",
     "text": [
      "Valeurs manquantes pour Benin:\n",
      "id_station                        0\n",
      "nom_ville                         0\n",
      "pays                              0\n",
      "etat                              0\n",
      "iso2                              0\n",
      "iso3                              0\n",
      "latitude                          0\n",
      "longitude                         0\n",
      "date                              0\n",
      "saison                            0\n",
      "temp_moyenne_c                21872\n",
      "temp_min_c                    11374\n",
      "temp_max_c                     7040\n",
      "precipitation_mm              35227\n",
      "profondeur_neige_mm           88368\n",
      "direction_vent_moyenne_deg    88368\n",
      "vitesse_vent_moyenne_kmh      88368\n",
      "rafale_vent_max_kmh           88368\n",
      "pression_niveau_mer_hpa       88368\n",
      "ensoleillement_total_min      88368\n",
      "annee                             0\n",
      "moyenne_temp_min_c_x              0\n",
      "moyenne_temp_min_c_y              0\n",
      "dtype: int64\n",
      "Valeurs manquantes pour Burkina Faso:\n",
      "id_station                         0\n",
      "nom_ville                          0\n",
      "pays                               0\n",
      "etat                               0\n",
      "iso2                               0\n",
      "iso3                               0\n",
      "latitude                           0\n",
      "longitude                          0\n",
      "date                               0\n",
      "saison                             0\n",
      "temp_moyenne_c                 22761\n",
      "temp_min_c                     18478\n",
      "temp_max_c                     10546\n",
      "precipitation_mm               71870\n",
      "profondeur_neige_mm           146925\n",
      "direction_vent_moyenne_deg    136245\n",
      "vitesse_vent_moyenne_kmh      134459\n",
      "rafale_vent_max_kmh           146925\n",
      "pression_niveau_mer_hpa       136795\n",
      "ensoleillement_total_min      146925\n",
      "annee                              0\n",
      "moyenne_temp_min_c_x             544\n",
      "moyenne_temp_min_c_y             544\n",
      "dtype: int64\n",
      "Valeurs manquantes pour Cape Verde:\n",
      "id_station                       0\n",
      "nom_ville                        0\n",
      "pays                             0\n",
      "etat                          6463\n",
      "iso2                             0\n",
      "iso3                             0\n",
      "latitude                         0\n",
      "longitude                        0\n",
      "date                             0\n",
      "saison                           0\n",
      "temp_moyenne_c                   0\n",
      "temp_min_c                    1061\n",
      "temp_max_c                    1171\n",
      "precipitation_mm              4908\n",
      "profondeur_neige_mm           6463\n",
      "direction_vent_moyenne_deg    4733\n",
      "vitesse_vent_moyenne_kmh      4731\n",
      "rafale_vent_max_kmh           6463\n",
      "pression_niveau_mer_hpa       4899\n",
      "ensoleillement_total_min      6463\n",
      "annee                            0\n",
      "moyenne_temp_min_c_x             6\n",
      "moyenne_temp_min_c_y             6\n",
      "dtype: int64\n",
      "Valeurs manquantes pour Ivory Coast:\n",
      "id_station                         0\n",
      "nom_ville                          0\n",
      "pays                               0\n",
      "etat                               0\n",
      "iso2                               0\n",
      "iso3                               0\n",
      "latitude                           0\n",
      "longitude                          0\n",
      "date                               0\n",
      "saison                             0\n",
      "temp_moyenne_c                 41552\n",
      "temp_min_c                     33167\n",
      "temp_max_c                     24458\n",
      "precipitation_mm               85773\n",
      "profondeur_neige_mm           208100\n",
      "direction_vent_moyenne_deg    191745\n",
      "vitesse_vent_moyenne_kmh      186947\n",
      "rafale_vent_max_kmh           208100\n",
      "pression_niveau_mer_hpa       190067\n",
      "ensoleillement_total_min      208100\n",
      "annee                              0\n",
      "moyenne_temp_min_c_x            1665\n",
      "moyenne_temp_min_c_y            1665\n",
      "dtype: int64\n",
      "Valeurs manquantes pour The Gambia:\n",
      "id_station                        0\n",
      "nom_ville                         0\n",
      "pays                              0\n",
      "etat                              0\n",
      "iso2                              0\n",
      "iso3                              0\n",
      "latitude                          0\n",
      "longitude                         0\n",
      "date                              0\n",
      "saison                            0\n",
      "temp_moyenne_c                    0\n",
      "temp_min_c                     4904\n",
      "temp_max_c                     4391\n",
      "precipitation_mm               9323\n",
      "profondeur_neige_mm           13070\n",
      "direction_vent_moyenne_deg    10554\n",
      "vitesse_vent_moyenne_kmh       8262\n",
      "rafale_vent_max_kmh           13070\n",
      "pression_niveau_mer_hpa       10936\n",
      "ensoleillement_total_min      13070\n",
      "annee                             0\n",
      "moyenne_temp_min_c_x             48\n",
      "moyenne_temp_min_c_y             48\n",
      "dtype: int64\n",
      "Valeurs manquantes pour Ghana:\n",
      "id_station                        0\n",
      "nom_ville                         0\n",
      "pays                              0\n",
      "etat                              0\n",
      "iso2                              0\n",
      "iso3                              0\n",
      "latitude                          0\n",
      "longitude                         0\n",
      "date                              0\n",
      "saison                            0\n",
      "temp_moyenne_c                    0\n",
      "temp_min_c                    15270\n",
      "temp_max_c                    17683\n",
      "precipitation_mm              31860\n",
      "profondeur_neige_mm           53684\n",
      "direction_vent_moyenne_deg    41416\n",
      "vitesse_vent_moyenne_kmh      41213\n",
      "rafale_vent_max_kmh           53684\n",
      "pression_niveau_mer_hpa       41899\n",
      "ensoleillement_total_min      53684\n",
      "annee                             0\n",
      "moyenne_temp_min_c_x            119\n",
      "moyenne_temp_min_c_y            119\n",
      "dtype: int64\n",
      "Valeurs manquantes pour Guinea:\n",
      "id_station                        0\n",
      "nom_ville                         0\n",
      "pays                              0\n",
      "etat                              0\n",
      "iso2                              0\n",
      "iso3                              0\n",
      "latitude                          0\n",
      "longitude                         0\n",
      "date                              0\n",
      "saison                            0\n",
      "temp_moyenne_c                31690\n",
      "temp_min_c                    17888\n",
      "temp_max_c                    10313\n",
      "precipitation_mm              21471\n",
      "profondeur_neige_mm           76755\n",
      "direction_vent_moyenne_deg    67277\n",
      "vitesse_vent_moyenne_kmh      66674\n",
      "rafale_vent_max_kmh           76755\n",
      "pression_niveau_mer_hpa       67074\n",
      "ensoleillement_total_min      76755\n",
      "annee                             0\n",
      "moyenne_temp_min_c_x           4409\n",
      "moyenne_temp_min_c_y           4409\n",
      "dtype: int64\n",
      "Valeurs manquantes pour Guinea Bissau:\n",
      "id_station                        0\n",
      "nom_ville                         0\n",
      "pays                              0\n",
      "etat                              0\n",
      "iso2                              0\n",
      "iso3                              0\n",
      "latitude                          0\n",
      "longitude                         0\n",
      "date                              0\n",
      "saison                            0\n",
      "temp_moyenne_c                    0\n",
      "temp_min_c                     7225\n",
      "temp_max_c                     3019\n",
      "precipitation_mm               9043\n",
      "profondeur_neige_mm           11764\n",
      "direction_vent_moyenne_deg     8980\n",
      "vitesse_vent_moyenne_kmh       8917\n",
      "rafale_vent_max_kmh           11764\n",
      "pression_niveau_mer_hpa        8924\n",
      "ensoleillement_total_min      11764\n",
      "annee                             0\n",
      "moyenne_temp_min_c_x           4473\n",
      "moyenne_temp_min_c_y           4473\n",
      "dtype: int64\n",
      "Valeurs manquantes pour Liberia:\n",
      "id_station                        0\n",
      "nom_ville                         0\n",
      "pays                              0\n",
      "etat                              0\n",
      "iso2                              0\n",
      "iso3                              0\n",
      "latitude                          0\n",
      "longitude                         0\n",
      "date                              0\n",
      "saison                            0\n",
      "temp_moyenne_c                 9876\n",
      "temp_min_c                     9541\n",
      "temp_max_c                     9238\n",
      "precipitation_mm              16027\n",
      "profondeur_neige_mm           38863\n",
      "direction_vent_moyenne_deg    35160\n",
      "vitesse_vent_moyenne_kmh      34544\n",
      "rafale_vent_max_kmh           38863\n",
      "pression_niveau_mer_hpa       34836\n",
      "ensoleillement_total_min      38863\n",
      "annee                             0\n",
      "moyenne_temp_min_c_x           1372\n",
      "moyenne_temp_min_c_y           1372\n",
      "dtype: int64\n",
      "Valeurs manquantes pour Mali:\n",
      "id_station                         0\n",
      "nom_ville                          0\n",
      "pays                               0\n",
      "etat                               0\n",
      "iso2                               0\n",
      "iso3                               0\n",
      "latitude                           0\n",
      "longitude                          0\n",
      "date                               0\n",
      "saison                             0\n",
      "temp_moyenne_c                     0\n",
      "temp_min_c                     28247\n",
      "temp_max_c                     21900\n",
      "precipitation_mm               66361\n",
      "profondeur_neige_mm           102432\n",
      "direction_vent_moyenne_deg     94079\n",
      "vitesse_vent_moyenne_kmh       92529\n",
      "rafale_vent_max_kmh           102432\n",
      "pression_niveau_mer_hpa        94175\n",
      "ensoleillement_total_min      102432\n",
      "annee                              0\n",
      "moyenne_temp_min_c_x            5188\n",
      "moyenne_temp_min_c_y            5188\n",
      "dtype: int64\n",
      "Valeurs manquantes pour Niger:\n",
      "id_station                         0\n",
      "nom_ville                          0\n",
      "pays                               0\n",
      "etat                               0\n",
      "iso2                               0\n",
      "iso3                               0\n",
      "latitude                           0\n",
      "longitude                          0\n",
      "date                               0\n",
      "saison                             0\n",
      "temp_moyenne_c                 35372\n",
      "temp_min_c                     17182\n",
      "temp_max_c                     16053\n",
      "precipitation_mm               76107\n",
      "profondeur_neige_mm           146268\n",
      "direction_vent_moyenne_deg    136893\n",
      "vitesse_vent_moyenne_kmh      134655\n",
      "rafale_vent_max_kmh           146268\n",
      "pression_niveau_mer_hpa       137858\n",
      "ensoleillement_total_min      146268\n",
      "annee                              0\n",
      "moyenne_temp_min_c_x            1377\n",
      "moyenne_temp_min_c_y            1377\n",
      "dtype: int64\n",
      "Valeurs manquantes pour Nigeria:\n",
      "id_station                        0\n",
      "nom_ville                         0\n",
      "pays                              0\n",
      "etat                              0\n",
      "iso2                              0\n",
      "iso3                              0\n",
      "latitude                          0\n",
      "longitude                         0\n",
      "date                              0\n",
      "saison                            0\n",
      "temp_moyenne_c                 8281\n",
      "temp_min_c                    20736\n",
      "temp_max_c                    18955\n",
      "precipitation_mm              56802\n",
      "profondeur_neige_mm           94965\n",
      "direction_vent_moyenne_deg    80446\n",
      "vitesse_vent_moyenne_kmh      78785\n",
      "rafale_vent_max_kmh           94965\n",
      "pression_niveau_mer_hpa       79832\n",
      "ensoleillement_total_min      94965\n",
      "annee                             0\n",
      "moyenne_temp_min_c_x           1961\n",
      "moyenne_temp_min_c_y           1961\n",
      "dtype: int64\n",
      "Valeurs manquantes pour Senegal:\n",
      "id_station                         0\n",
      "nom_ville                          0\n",
      "pays                               0\n",
      "etat                               0\n",
      "iso2                               0\n",
      "iso3                               0\n",
      "latitude                           0\n",
      "longitude                          0\n",
      "date                               0\n",
      "saison                             0\n",
      "temp_moyenne_c                     1\n",
      "temp_min_c                     30677\n",
      "temp_max_c                     17316\n",
      "precipitation_mm               89393\n",
      "profondeur_neige_mm           137433\n",
      "direction_vent_moyenne_deg    123178\n",
      "vitesse_vent_moyenne_kmh      120217\n",
      "rafale_vent_max_kmh           137433\n",
      "pression_niveau_mer_hpa       126595\n",
      "ensoleillement_total_min      137433\n",
      "annee                              0\n",
      "moyenne_temp_min_c_x             274\n",
      "moyenne_temp_min_c_y             274\n",
      "dtype: int64\n",
      "Valeurs manquantes pour Sierra Leone:\n",
      "id_station                        0\n",
      "nom_ville                         0\n",
      "pays                              0\n",
      "etat                              0\n",
      "iso2                              0\n",
      "iso3                              0\n",
      "latitude                          0\n",
      "longitude                         0\n",
      "date                              0\n",
      "saison                            0\n",
      "temp_moyenne_c                 6795\n",
      "temp_min_c                     5752\n",
      "temp_max_c                     4362\n",
      "precipitation_mm               7012\n",
      "profondeur_neige_mm           18187\n",
      "direction_vent_moyenne_deg    16440\n",
      "vitesse_vent_moyenne_kmh      15837\n",
      "rafale_vent_max_kmh           18187\n",
      "pression_niveau_mer_hpa       16237\n",
      "ensoleillement_total_min      18187\n",
      "annee                             0\n",
      "moyenne_temp_min_c_x            111\n",
      "moyenne_temp_min_c_y            111\n",
      "dtype: int64\n",
      "Valeurs manquantes pour Togo:\n",
      "id_station                        0\n",
      "nom_ville                         0\n",
      "pays                              0\n",
      "etat                              0\n",
      "iso2                              0\n",
      "iso3                              0\n",
      "latitude                          0\n",
      "longitude                         0\n",
      "date                              0\n",
      "saison                            0\n",
      "temp_moyenne_c                 9817\n",
      "temp_min_c                     6022\n",
      "temp_max_c                     4072\n",
      "precipitation_mm              18214\n",
      "profondeur_neige_mm           41803\n",
      "direction_vent_moyenne_deg    38095\n",
      "vitesse_vent_moyenne_kmh      35638\n",
      "rafale_vent_max_kmh           41803\n",
      "pression_niveau_mer_hpa       38340\n",
      "ensoleillement_total_min      41803\n",
      "annee                             0\n",
      "moyenne_temp_min_c_x            168\n",
      "moyenne_temp_min_c_y            168\n",
      "dtype: int64\n"
     ]
    }
   ],
   "source": [
    "# Créer un dictionnaire pour stocker les DataFrames par pays\n",
    "dataframes_par_pays = {}\n",
    "\n",
    "# Filtrer les données pour chaque pays et les stocker dans le dictionnaire\n",
    "for pays in pays_afrique_ouest:\n",
    "    dataframes_par_pays[pays] = pays_CEDEAO[pays_CEDEAO['pays'] == pays]\n",
    "\n",
    "# Créer un dictionnaire pour stocker le nombre de valeurs manquantes par pays\n",
    "valeurs_manquantes_par_pays = {}\n",
    "\n",
    "# Compter les valeurs manquantes pour chaque DataFrame de pays\n",
    "for pays, df in dataframes_par_pays.items():\n",
    "    missing_values_count = df.isnull().sum()  # Compter les valeurs manquantes par colonne\n",
    "    valeurs_manquantes_par_pays[pays] = missing_values_count\n",
    "\n",
    "# Afficher le nombre de valeurs manquantes pour chaque pays\n",
    "for pays, count_series in valeurs_manquantes_par_pays.items():\n",
    "    print(f\"Valeurs manquantes pour {pays}:\")\n",
    "    print(count_series)\n"
   ]
  },
  {
   "cell_type": "markdown",
   "id": "b99ce0b3-e7f6-47ce-95e4-813ea1f5a075",
   "metadata": {},
   "source": [
    "<h3 class = \"styled-sub-subtitle\">Vérifions si les valeurs manquantes sont expliquées par un ou des saisons spécifiques</h3>"
   ]
  },
  {
   "cell_type": "code",
   "execution_count": 3,
   "id": "d48a9057-7538-41a8-9e8f-64fd7393f101",
   "metadata": {},
   "outputs": [
    {
     "ename": "NameError",
     "evalue": "name 'pd' is not defined",
     "output_type": "error",
     "traceback": [
      "\u001b[1;31m---------------------------------------------------------------------------\u001b[0m",
      "\u001b[1;31mNameError\u001b[0m                                 Traceback (most recent call last)",
      "Cell \u001b[1;32mIn[3], line 2\u001b[0m\n\u001b[0;32m      1\u001b[0m \u001b[38;5;66;03m# Convertir la colonne 'date' en type datetime si ce n'est pas déjà fait\u001b[39;00m\n\u001b[1;32m----> 2\u001b[0m pays_CEDEAO[\u001b[38;5;124m'\u001b[39m\u001b[38;5;124mdate\u001b[39m\u001b[38;5;124m'\u001b[39m] \u001b[38;5;241m=\u001b[39m \u001b[43mpd\u001b[49m\u001b[38;5;241m.\u001b[39mto_datetime(pays_CEDEAO[\u001b[38;5;124m'\u001b[39m\u001b[38;5;124mdate\u001b[39m\u001b[38;5;124m'\u001b[39m])\n\u001b[0;32m      4\u001b[0m \u001b[38;5;66;03m# Créer un dictionnaire pour stocker le nombre de valeurs manquantes par année\u001b[39;00m\n\u001b[0;32m      5\u001b[0m valeurs_manquantes_par_annee \u001b[38;5;241m=\u001b[39m {}\n",
      "\u001b[1;31mNameError\u001b[0m: name 'pd' is not defined"
     ]
    }
   ],
   "source": [
    "# Convertir la colonne 'date' en type datetime si ce n'est pas déjà fait\n",
    "pays_CEDEAO['date'] = pd.to_datetime(pays_CEDEAO['date'])\n",
    "\n",
    "# Créer un dictionnaire pour stocker le nombre de valeurs manquantes par année\n",
    "valeurs_manquantes_par_annee = {}\n",
    "\n",
    "# Extraire les années uniques du DataFrame\n",
    "annees_uniques = pays_CEDEAO['date'].dt.year.unique()\n",
    "\n",
    "# Compter les valeurs manquantes pour chaque année\n",
    "for annee in annees_uniques:\n",
    "    # Filtrer le DataFrame pour l'année courante\n",
    "    df_annee = pays_CEDEAO[pays_CEDEAO['date'].dt.year == annee]\n",
    "    \n",
    "    # Compter les valeurs manquantes\n",
    "    missing_values_count = df_annee.isnull().sum()  # Compter les valeurs manquantes par colonne\n",
    "    \n",
    "    # Convertir le résultat en dictionnaire\n",
    "    valeurs_manquantes_par_annee[annee] = missing_values_count.to_dict()\n",
    "\n",
    "# Afficher le nombre de valeurs manquantes pour chaque année\n",
    "for annee, count_dict in valeurs_manquantes_par_annee.items():\n",
    "    print(f\"Valeurs manquantes pour l'année {annee}:\")\n",
    "    for colonne, count in count_dict.items():\n",
    "        print(f\"  {colonne}: {count}\")\n"
   ]
  },
  {
   "cell_type": "markdown",
   "id": "de5b50f8-707f-46b7-be62-38f83700d315",
   "metadata": {},
   "source": [
    "<h3 class = \"styled-sub-subtitle\">corrections des valeurs manquantes</h3>"
   ]
  },
  {
   "cell_type": "code",
   "execution_count": 24,
   "id": "54525d65-19a8-4870-820f-6a55a3413f30",
   "metadata": {},
   "outputs": [
    {
     "name": "stderr",
     "output_type": "stream",
     "text": [
      "C:\\Users\\DELL\\AppData\\Local\\Temp\\ipykernel_11824\\2879658242.py:10: FutureWarning: The default of observed=False is deprecated and will be changed to True in a future version of pandas. Pass observed=False to retain current behavior or observed=True to adopt the future default and silence this warning.\n",
      "  pays_CEDEAO.groupby(['pays', 'id_station', 'annee', 'saison'])\n",
      "C:\\Users\\DELL\\AppData\\Local\\Temp\\ipykernel_11824\\2879658242.py:10: FutureWarning: The default of observed=False is deprecated and will be changed to True in a future version of pandas. Pass observed=False to retain current behavior or observed=True to adopt the future default and silence this warning.\n",
      "  pays_CEDEAO.groupby(['pays', 'id_station', 'annee', 'saison'])\n",
      "C:\\Users\\DELL\\AppData\\Local\\Temp\\ipykernel_11824\\2879658242.py:10: FutureWarning: The default of observed=False is deprecated and will be changed to True in a future version of pandas. Pass observed=False to retain current behavior or observed=True to adopt the future default and silence this warning.\n",
      "  pays_CEDEAO.groupby(['pays', 'id_station', 'annee', 'saison'])\n"
     ]
    },
    {
     "name": "stdout",
     "output_type": "stream",
     "text": [
      "  id_station nom_ville   pays etat iso2 iso3  latitude  longitude       date  \\\n",
      "0      65338    Abomey  Benin  Zou   BJ  BEN    7.1904   1.989997 1973-01-02   \n",
      "1      65338    Abomey  Benin  Zou   BJ  BEN    7.1904   1.989997 1973-01-03   \n",
      "2      65338    Abomey  Benin  Zou   BJ  BEN    7.1904   1.989997 1973-01-04   \n",
      "3      65338    Abomey  Benin  Zou   BJ  BEN    7.1904   1.989997 1973-01-06   \n",
      "4      65338    Abomey  Benin  Zou   BJ  BEN    7.1904   1.989997 1973-01-07   \n",
      "\n",
      "   saison  temp_moyenne_c  temp_min_c  temp_max_c  precipitation_mm  \\\n",
      "0  Winter            29.0   24.090909   35.527778               NaN   \n",
      "1  Winter            30.2   24.090909   35.527778               NaN   \n",
      "2  Winter            30.4   24.090909   35.527778               NaN   \n",
      "3  Winter            29.4   26.000000   35.527778               NaN   \n",
      "4  Winter            29.3   24.000000   35.000000               NaN   \n",
      "\n",
      "   vitesse_vent_moyenne_kmh  annee  \n",
      "0                       NaN   1973  \n",
      "1                       NaN   1973  \n",
      "2                       NaN   1973  \n",
      "3                       NaN   1973  \n",
      "4                       NaN   1973  \n"
     ]
    }
   ],
   "source": [
    "# Liste des colonnes à corriger\n",
    "colonnes_a_corriger = ['temp_moyenne_c', 'temp_min_c', 'temp_max_c']\n",
    "\n",
    "# Créer une colonne 'annee' dans CEDEAO\n",
    "pays_CEDEAO['annee'] = pays_CEDEAO['date'].dt.year  # Extraire l'année de la colonne date\n",
    "\n",
    "for colonne in colonnes_a_corriger:\n",
    "    # Calculer la moyenne pour chaque combinaison de pays, id_station, année et saison\n",
    "    moyennes_df = (\n",
    "        pays_CEDEAO.groupby(['pays', 'id_station', 'annee', 'saison'])\n",
    "        [colonne].mean().reset_index(name=f'moyenne_{colonne}')\n",
    "    )\n",
    "\n",
    "    # Effectuer une jointure pour remplir les valeurs manquantes\n",
    "    pays_CEDEAO = pays_CEDEAO.merge(\n",
    "        moyennes_df,\n",
    "        on=['pays', 'id_station', 'annee', 'saison'],\n",
    "        how='left'\n",
    "    )\n",
    "\n",
    "    # Remplir les valeurs manquantes\n",
    "    pays_CEDEAO[colonne] = pays_CEDEAO[colonne].fillna(pays_CEDEAO[f'moyenne_{colonne}'])\n",
    "\n",
    "    # Supprimer la colonne de moyenne après utilisation\n",
    "    pays_CEDEAO.drop(columns=[f'moyenne_{colonne}'], inplace=True)\n",
    "\n",
    "# Afficher le DataFrame final\n",
    "print(pays_CEDEAO.head())  # Affiche les premières lignes du DataFrame\n"
   ]
  },
  {
   "cell_type": "markdown",
   "id": "6a496f33-b67e-4b75-bf27-a09e211dd515",
   "metadata": {},
   "source": [
    "<h3 class = \"styled-sub-subtitle\">Vérifions la présence des valeurs manquantes après correction</h3>\n"
   ]
  },
  {
   "cell_type": "code",
   "execution_count": 20,
   "id": "6570afa5-af75-4ef5-b14e-067bfb7dde3b",
   "metadata": {},
   "outputs": [
    {
     "name": "stdout",
     "output_type": "stream",
     "text": [
      "id_station: 0 valeurs manquantes\n",
      "nom_ville: 0 valeurs manquantes\n",
      "pays: 0 valeurs manquantes\n",
      "etat: 6463 valeurs manquantes\n",
      "iso2: 0 valeurs manquantes\n",
      "iso3: 0 valeurs manquantes\n",
      "latitude: 0 valeurs manquantes\n",
      "longitude: 0 valeurs manquantes\n",
      "date: 0 valeurs manquantes\n",
      "saison: 0 valeurs manquantes\n",
      "temp_moyenne_c: 178964 valeurs manquantes\n",
      "temp_min_c: 21715 valeurs manquantes\n",
      "temp_max_c: 13854 valeurs manquantes\n",
      "precipitation_mm: 599391 valeurs manquantes\n",
      "vitesse_vent_moyenne_kmh: 1051776 valeurs manquantes\n",
      "annee: 0 valeurs manquantes\n"
     ]
    }
   ],
   "source": [
    "# Vérifier les valeurs manquantes dans le DataFrame CEDEAO\n",
    "valeurs_manquantes_pays_CEDEAO = pays_CEDEAO.isnull().sum()\n",
    "\n",
    "# Afficher le nombre de valeurs manquantes par colonne\n",
    "for column, missing in valeurs_manquantes_pays_CEDEAO.items():\n",
    "    print(f\"{column}: {missing} valeurs manquantes\")\n"
   ]
  },
  {
   "cell_type": "markdown",
   "id": "5fae3504-cbf2-4a51-b319-5397b7103241",
   "metadata": {},
   "source": [
    "<h3 class = \"styled-sub-subtitle\">Seconde phase de correction de valeurs manquantes</h3>"
   ]
  },
  {
   "cell_type": "code",
   "execution_count": 25,
   "id": "81140da6-032a-4776-a2b2-fae9af93fe2d",
   "metadata": {},
   "outputs": [
    {
     "name": "stderr",
     "output_type": "stream",
     "text": [
      "C:\\Users\\DELL\\AppData\\Local\\Temp\\ipykernel_11824\\2256283849.py:9: FutureWarning: The default of observed=False is deprecated and will be changed to True in a future version of pandas. Pass observed=False to retain current behavior or observed=True to adopt the future default and silence this warning.\n",
      "  moyennes_df = pays_CEDEAO.groupby(['pays', 'id_station', 'saison'])[colonne].mean().reset_index()\n",
      "C:\\Users\\DELL\\AppData\\Local\\Temp\\ipykernel_11824\\2256283849.py:9: FutureWarning: The default of observed=False is deprecated and will be changed to True in a future version of pandas. Pass observed=False to retain current behavior or observed=True to adopt the future default and silence this warning.\n",
      "  moyennes_df = pays_CEDEAO.groupby(['pays', 'id_station', 'saison'])[colonne].mean().reset_index()\n",
      "C:\\Users\\DELL\\AppData\\Local\\Temp\\ipykernel_11824\\2256283849.py:9: FutureWarning: The default of observed=False is deprecated and will be changed to True in a future version of pandas. Pass observed=False to retain current behavior or observed=True to adopt the future default and silence this warning.\n",
      "  moyennes_df = pays_CEDEAO.groupby(['pays', 'id_station', 'saison'])[colonne].mean().reset_index()\n"
     ]
    },
    {
     "name": "stdout",
     "output_type": "stream",
     "text": [
      "        id_station nom_ville   pays    etat iso2 iso3  latitude  longitude  \\\n",
      "0            65338    Abomey  Benin     Zou   BJ  BEN  7.190400   1.989997   \n",
      "1            65338    Abomey  Benin     Zou   BJ  BEN  7.190400   1.989997   \n",
      "2            65338    Abomey  Benin     Zou   BJ  BEN  7.190400   1.989997   \n",
      "3            65338    Abomey  Benin     Zou   BJ  BEN  7.190400   1.989997   \n",
      "4            65338    Abomey  Benin     Zou   BJ  BEN  7.190400   1.989997   \n",
      "...            ...       ...    ...     ...  ...  ...       ...        ...   \n",
      "1185075      65361    Sokodé   Togo  Centre   TG  TGO  8.990471   1.149997   \n",
      "1185076      65361    Sokodé   Togo  Centre   TG  TGO  8.990471   1.149997   \n",
      "1185077      65361    Sokodé   Togo  Centre   TG  TGO  8.990471   1.149997   \n",
      "1185078      65361    Sokodé   Togo  Centre   TG  TGO  8.990471   1.149997   \n",
      "1185079      65361    Sokodé   Togo  Centre   TG  TGO  8.990471   1.149997   \n",
      "\n",
      "              date  saison  temp_moyenne_c  temp_min_c  temp_max_c  \\\n",
      "0       1973-01-02  Winter            29.0   24.090909   35.527778   \n",
      "1       1973-01-03  Winter            30.2   24.090909   35.527778   \n",
      "2       1973-01-04  Winter            30.4   24.090909   35.527778   \n",
      "3       1973-01-06  Winter            29.4   26.000000   35.527778   \n",
      "4       1973-01-07  Winter            29.3   24.000000   35.000000   \n",
      "...            ...     ...             ...         ...         ...   \n",
      "1185075 2023-08-24  Summer            24.8   21.900000   31.900000   \n",
      "1185076 2023-08-25  Summer            25.6   21.000000   33.000000   \n",
      "1185077 2023-08-26  Summer            24.2   21.100000   29.000000   \n",
      "1185078 2023-08-27  Summer            25.2   20.800000   31.000000   \n",
      "1185079 2023-08-28  Summer            22.8   21.000000   26.600000   \n",
      "\n",
      "         precipitation_mm  vitesse_vent_moyenne_kmh  annee  \n",
      "0                     NaN                       NaN   1973  \n",
      "1                     NaN                       NaN   1973  \n",
      "2                     NaN                       NaN   1973  \n",
      "3                     NaN                       NaN   1973  \n",
      "4                     NaN                       NaN   1973  \n",
      "...                   ...                       ...    ...  \n",
      "1185075               0.5                       6.0   2023  \n",
      "1185076               4.9                       6.1   2023  \n",
      "1185077              27.3                       6.8   2023  \n",
      "1185078               2.6                       5.4   2023  \n",
      "1185079              23.1                       5.4   2023  \n",
      "\n",
      "[1185080 rows x 16 columns]\n"
     ]
    }
   ],
   "source": [
    "# Liste des colonnes à corriger\n",
    "colonnes_a_corriger = ['temp_moyenne_c', 'temp_min_c', 'temp_max_c']\n",
    "\n",
    "# Créer une colonne 'annee' dans CEDEAO\n",
    "pays_CEDEAO['annee'] = pd.to_datetime(pays_CEDEAO['date']).dt.year  # Assurez-vous que 'date' est de type datetime\n",
    "\n",
    "for colonne in colonnes_a_corriger:\n",
    "    # Calculer la moyenne pour chaque combinaison de pays, id_station et saison\n",
    "    moyennes_df = pays_CEDEAO.groupby(['pays', 'id_station', 'saison'])[colonne].mean().reset_index()\n",
    "    moyennes_df.rename(columns={colonne: f'moyenne_{colonne}'}, inplace=True)\n",
    "\n",
    "    # Effectuer une jointure pour remplir les valeurs manquantes\n",
    "    pays_CEDEAO = pays_CEDEAO.merge(\n",
    "        moyennes_df,\n",
    "        on=['pays', 'id_station', 'saison'],\n",
    "        how='left'\n",
    "    )\n",
    "\n",
    "    # Remplir les valeurs manquantes avec les moyennes calculées\n",
    "    pays_CEDEAO[colonne] = pays_CEDEAO[colonne].fillna(pays_CEDEAO[f'moyenne_{colonne}'])\n",
    "\n",
    "    # Supprimer la colonne de moyenne après utilisation\n",
    "    pays_CEDEAO.drop(columns=[f'moyenne_{colonne}'], inplace=True)\n",
    "\n",
    "# Afficher le DataFrame final\n",
    "print(pays_CEDEAO)\n"
   ]
  },
  {
   "cell_type": "markdown",
   "id": "c522332c-eea8-4e3d-997f-8add124d75a4",
   "metadata": {},
   "source": [
    "<h3 class = \"styled-sub-subtitle\">vérifions à nouveau la présence de valeurs manquante</h3>"
   ]
  },
  {
   "cell_type": "code",
   "execution_count": 22,
   "id": "141c5685-896f-4ba9-87e4-4fb9971b7281",
   "metadata": {},
   "outputs": [
    {
     "name": "stdout",
     "output_type": "stream",
     "text": [
      "id_station: 0 valeurs manquantes\n",
      "nom_ville: 0 valeurs manquantes\n",
      "pays: 0 valeurs manquantes\n",
      "etat: 6463 valeurs manquantes\n",
      "iso2: 0 valeurs manquantes\n",
      "iso3: 0 valeurs manquantes\n",
      "latitude: 0 valeurs manquantes\n",
      "longitude: 0 valeurs manquantes\n",
      "date: 0 valeurs manquantes\n",
      "saison: 0 valeurs manquantes\n",
      "temp_moyenne_c: 0 valeurs manquantes\n",
      "temp_min_c: 0 valeurs manquantes\n",
      "temp_max_c: 0 valeurs manquantes\n",
      "precipitation_mm: 599391 valeurs manquantes\n",
      "vitesse_vent_moyenne_kmh: 1051776 valeurs manquantes\n",
      "annee: 0 valeurs manquantes\n"
     ]
    }
   ],
   "source": [
    "# Compter les valeurs manquantes pour chaque colonne\n",
    "valeurs_manquantes_pays_CEDEAO = pays_CEDEAO.isnull().sum()\n",
    "\n",
    "# Afficher le nombre de valeurs manquantes par colonne\n",
    "for column, missing in valeurs_manquantes_pays_CEDEAO.items():\n",
    "    print(f\"{column}: {missing} valeurs manquantes\")\n"
   ]
  },
  {
   "cell_type": "markdown",
   "id": "9365036c-eb64-4e62-9a87-9f4fc74edd78",
   "metadata": {},
   "source": [
    "<h2 class = \"styled-subtitle\">2. Traitement de la variable précipitation</h2>"
   ]
  },
  {
   "cell_type": "code",
   "execution_count": 26,
   "id": "e5345e8c-f33c-48bc-a41a-53d2213c440d",
   "metadata": {},
   "outputs": [],
   "source": [
    "df_cedeao = pays_CEDEAO\n",
    "val_mq_precipitations = df_cedeao[df_cedeao['precipitation_mm'].isnull()]\n"
   ]
  },
  {
   "cell_type": "markdown",
   "id": "7e564939-4f5d-49d2-b923-7c3178ac74b1",
   "metadata": {},
   "source": [
    "<p class = \"styled-text\">L'objectif est de récupérer les dates pour vérifier notre intuition: il ne pleut\n",
    "presque pas en janvier dans les pays de la zone CEDEAO.</p>"
   ]
  },
  {
   "cell_type": "code",
   "execution_count": 33,
   "id": "59a29c38-0e14-41bc-b0b9-05d45efeb50f",
   "metadata": {},
   "outputs": [
    {
     "data": {
      "text/plain": [
       "id_station                        0\n",
       "nom_ville                         0\n",
       "pays                              0\n",
       "etat                           6463\n",
       "iso2                              0\n",
       "iso3                              0\n",
       "latitude                          0\n",
       "longitude                         0\n",
       "date                              0\n",
       "saison                            0\n",
       "temp_moyenne_c                    0\n",
       "temp_min_c                        0\n",
       "temp_max_c                        0\n",
       "precipitation_mm             599391\n",
       "vitesse_vent_moyenne_kmh    1051776\n",
       "annee                             0\n",
       "dtype: int64"
      ]
     },
     "execution_count": 33,
     "metadata": {},
     "output_type": "execute_result"
    }
   ],
   "source": [
    "valeurs_manquantes = pays_CEDEAO.isnull().sum()\n",
    "valeurs_manquantes"
   ]
  },
  {
   "cell_type": "code",
   "execution_count": 34,
   "id": "f4d1bd32-39dc-444c-8921-b37df5356e64",
   "metadata": {},
   "outputs": [
    {
     "name": "stdout",
     "output_type": "stream",
     "text": [
      "<DatetimeArray>\n",
      "['1973-01-02 00:00:00', '1973-01-03 00:00:00', '1973-01-04 00:00:00',\n",
      " '1973-01-06 00:00:00', '1973-01-07 00:00:00', '1973-01-17 00:00:00',\n",
      " '1973-01-18 00:00:00', '1973-01-21 00:00:00', '1973-01-22 00:00:00',\n",
      " '1973-01-25 00:00:00',\n",
      " ...\n",
      " '1981-08-31 00:00:00', '1981-10-09 00:00:00', '1972-12-03 00:00:00',\n",
      " '1974-03-15 00:00:00', '1977-02-17 00:00:00', '1977-05-18 00:00:00',\n",
      " '1978-12-07 00:00:00', '1979-05-02 00:00:00', '1980-04-12 00:00:00',\n",
      " '1981-08-19 00:00:00']\n",
      "Length: 31168, dtype: datetime64[us]\n"
     ]
    }
   ],
   "source": [
    "# Récupérer les dates où il manque des données\n",
    "dates_mq = val_mq_precipitations['date'].unique()\n",
    "print(dates_mq) \n",
    "# QU'est-ce que je disais?"
   ]
  },
  {
   "cell_type": "code",
   "execution_count": 35,
   "id": "41d163b2-8334-49b4-94e1-869d64bfdc32",
   "metadata": {},
   "outputs": [
    {
     "name": "stderr",
     "output_type": "stream",
     "text": [
      "C:\\Users\\DELL\\AppData\\Local\\Temp\\ipykernel_11824\\511319965.py:2: SettingWithCopyWarning: \n",
      "A value is trying to be set on a copy of a slice from a DataFrame.\n",
      "Try using .loc[row_indexer,col_indexer] = value instead\n",
      "\n",
      "See the caveats in the documentation: https://pandas.pydata.org/pandas-docs/stable/user_guide/indexing.html#returning-a-view-versus-a-copy\n",
      "  val_mq_precipitations['month'] = val_mq_precipitations['date'].dt.month\n"
     ]
    }
   ],
   "source": [
    "# Création de la colonne mois \n",
    "val_mq_precipitations['month'] = val_mq_precipitations['date'].dt.month"
   ]
  },
  {
   "cell_type": "code",
   "execution_count": 36,
   "id": "79b615eb-649d-49fb-8cb9-5c2b2287ef89",
   "metadata": {},
   "outputs": [
    {
     "data": {
      "text/plain": [
       "array([ 1,  2,  3,  4,  5,  6,  7,  8, 11, 12, 10,  9])"
      ]
     },
     "execution_count": 36,
     "metadata": {},
     "output_type": "execute_result"
    }
   ],
   "source": [
    "val_mq_precipitations['month'].unique()\n",
    "# Il y a du tout"
   ]
  },
  {
   "cell_type": "code",
   "execution_count": 37,
   "id": "eda833ae-5bf4-4cd2-9562-bf076dbb1a7f",
   "metadata": {},
   "outputs": [
    {
     "name": "stdout",
     "output_type": "stream",
     "text": [
      "month\n",
      "1     63620\n",
      "12    61539\n",
      "3     59897\n",
      "2     57376\n",
      "11    55935\n",
      "4     54263\n",
      "5     50619\n",
      "10    46852\n",
      "6     40872\n",
      "7     38570\n",
      "8     35322\n",
      "9     34526\n",
      "Name: count, dtype: int64\n"
     ]
    }
   ],
   "source": [
    "distribution_frequences = val_mq_precipitations['month'].value_counts()\n",
    "print(distribution_frequences)\n"
   ]
  },
  {
   "cell_type": "code",
   "execution_count": 30,
   "id": "e7b0a9bf-9079-4b2c-aae1-5ec434f6b925",
   "metadata": {},
   "outputs": [
    {
     "data": {
      "text/plain": [
       "array(['Abomey', 'Cotonou', 'Natitingou', 'Parakou', 'Bobo Dioulasso',\n",
       "       'Dédougou', \"Fada N'gourma\", 'Gaoua', 'Ouagadougou', 'Ouahigouya',\n",
       "       'Pô', 'Réo', 'Praia', 'Accra', 'Bolgatanga', 'Ho', 'Koforidua',\n",
       "       'Kumasi', 'Sekondi-Takoradi', 'Sunyani', 'Tamale', 'Wa', 'Boké',\n",
       "       'Conakry', 'Faranah', 'Kankan', 'Kindia', 'Labé', 'Mali', 'Mamou',\n",
       "       'Nzérékoré', 'Bissau', 'Bolama', 'Abidjan', 'Aboisso', 'Bondoukou',\n",
       "       'Bouaké', 'Daloa', 'Dimbokro', 'Gagnoa', 'Korhogo', 'Man',\n",
       "       'Odienné', 'San Pédro', 'Yamoussoukro', 'Harper', 'Kakata',\n",
       "       'Bamako', 'Kayes', 'Mopti', 'San', 'Sikasso', 'Ségou', 'Agadez',\n",
       "       'Diffa', 'Maradi', 'Niamey', 'Tahoua', 'Zinder', 'Birnin Kebbi',\n",
       "       'Gashua', 'Ilorin', 'Jos', 'Kano', 'Lagos', 'Maiduguri', 'Makurdi',\n",
       "       'Minna', 'Port Harcourt', 'Sokoto', 'Yola', 'Dakar', 'Diourbel',\n",
       "       'Kaolack', 'Kaédi', 'Kolda', 'Louga', 'Tambacounda', 'Ziguinchor',\n",
       "       'Freetown', 'Brikama', 'Lomé', 'Sokodé'], dtype=object)"
      ]
     },
     "execution_count": 30,
     "metadata": {},
     "output_type": "execute_result"
    }
   ],
   "source": [
    "# Villes pour les quelles il n'y pas de données sur les précipitations\n",
    "val_mq_precipitations['nom_ville'].unique() #"
   ]
  },
  {
   "cell_type": "code",
   "execution_count": 31,
   "id": "bf829cc7-2392-449b-9247-12cd1a06711f",
   "metadata": {},
   "outputs": [
    {
     "data": {
      "text/html": [
       "<div>\n",
       "<style scoped>\n",
       "    .dataframe tbody tr th:only-of-type {\n",
       "        vertical-align: middle;\n",
       "    }\n",
       "\n",
       "    .dataframe tbody tr th {\n",
       "        vertical-align: top;\n",
       "    }\n",
       "\n",
       "    .dataframe thead th {\n",
       "        text-align: right;\n",
       "    }\n",
       "</style>\n",
       "<table border=\"1\" class=\"dataframe\">\n",
       "  <thead>\n",
       "    <tr style=\"text-align: right;\">\n",
       "      <th></th>\n",
       "      <th>id_station</th>\n",
       "      <th>nom_ville</th>\n",
       "      <th>pays</th>\n",
       "      <th>etat</th>\n",
       "      <th>iso2</th>\n",
       "      <th>iso3</th>\n",
       "      <th>latitude</th>\n",
       "      <th>longitude</th>\n",
       "      <th>date</th>\n",
       "      <th>saison</th>\n",
       "      <th>temp_moyenne_c</th>\n",
       "      <th>temp_min_c</th>\n",
       "      <th>temp_max_c</th>\n",
       "      <th>precipitation_mm</th>\n",
       "      <th>vitesse_vent_moyenne_kmh</th>\n",
       "      <th>annee</th>\n",
       "      <th>month</th>\n",
       "    </tr>\n",
       "  </thead>\n",
       "  <tbody>\n",
       "    <tr>\n",
       "      <th>0</th>\n",
       "      <td>65338</td>\n",
       "      <td>Abomey</td>\n",
       "      <td>Benin</td>\n",
       "      <td>Zou</td>\n",
       "      <td>BJ</td>\n",
       "      <td>BEN</td>\n",
       "      <td>7.1904</td>\n",
       "      <td>1.989997</td>\n",
       "      <td>1973-01-02</td>\n",
       "      <td>Winter</td>\n",
       "      <td>29.0</td>\n",
       "      <td>24.090909</td>\n",
       "      <td>35.527778</td>\n",
       "      <td>NaN</td>\n",
       "      <td>NaN</td>\n",
       "      <td>1973</td>\n",
       "      <td>1</td>\n",
       "    </tr>\n",
       "    <tr>\n",
       "      <th>1</th>\n",
       "      <td>65338</td>\n",
       "      <td>Abomey</td>\n",
       "      <td>Benin</td>\n",
       "      <td>Zou</td>\n",
       "      <td>BJ</td>\n",
       "      <td>BEN</td>\n",
       "      <td>7.1904</td>\n",
       "      <td>1.989997</td>\n",
       "      <td>1973-01-03</td>\n",
       "      <td>Winter</td>\n",
       "      <td>30.2</td>\n",
       "      <td>24.090909</td>\n",
       "      <td>35.527778</td>\n",
       "      <td>NaN</td>\n",
       "      <td>NaN</td>\n",
       "      <td>1973</td>\n",
       "      <td>1</td>\n",
       "    </tr>\n",
       "    <tr>\n",
       "      <th>2</th>\n",
       "      <td>65338</td>\n",
       "      <td>Abomey</td>\n",
       "      <td>Benin</td>\n",
       "      <td>Zou</td>\n",
       "      <td>BJ</td>\n",
       "      <td>BEN</td>\n",
       "      <td>7.1904</td>\n",
       "      <td>1.989997</td>\n",
       "      <td>1973-01-04</td>\n",
       "      <td>Winter</td>\n",
       "      <td>30.4</td>\n",
       "      <td>24.090909</td>\n",
       "      <td>35.527778</td>\n",
       "      <td>NaN</td>\n",
       "      <td>NaN</td>\n",
       "      <td>1973</td>\n",
       "      <td>1</td>\n",
       "    </tr>\n",
       "    <tr>\n",
       "      <th>3</th>\n",
       "      <td>65338</td>\n",
       "      <td>Abomey</td>\n",
       "      <td>Benin</td>\n",
       "      <td>Zou</td>\n",
       "      <td>BJ</td>\n",
       "      <td>BEN</td>\n",
       "      <td>7.1904</td>\n",
       "      <td>1.989997</td>\n",
       "      <td>1973-01-06</td>\n",
       "      <td>Winter</td>\n",
       "      <td>29.4</td>\n",
       "      <td>26.000000</td>\n",
       "      <td>35.527778</td>\n",
       "      <td>NaN</td>\n",
       "      <td>NaN</td>\n",
       "      <td>1973</td>\n",
       "      <td>1</td>\n",
       "    </tr>\n",
       "    <tr>\n",
       "      <th>4</th>\n",
       "      <td>65338</td>\n",
       "      <td>Abomey</td>\n",
       "      <td>Benin</td>\n",
       "      <td>Zou</td>\n",
       "      <td>BJ</td>\n",
       "      <td>BEN</td>\n",
       "      <td>7.1904</td>\n",
       "      <td>1.989997</td>\n",
       "      <td>1973-01-07</td>\n",
       "      <td>Winter</td>\n",
       "      <td>29.3</td>\n",
       "      <td>24.000000</td>\n",
       "      <td>35.000000</td>\n",
       "      <td>NaN</td>\n",
       "      <td>NaN</td>\n",
       "      <td>1973</td>\n",
       "      <td>1</td>\n",
       "    </tr>\n",
       "  </tbody>\n",
       "</table>\n",
       "</div>"
      ],
      "text/plain": [
       "  id_station nom_ville   pays etat iso2 iso3  latitude  longitude       date  \\\n",
       "0      65338    Abomey  Benin  Zou   BJ  BEN    7.1904   1.989997 1973-01-02   \n",
       "1      65338    Abomey  Benin  Zou   BJ  BEN    7.1904   1.989997 1973-01-03   \n",
       "2      65338    Abomey  Benin  Zou   BJ  BEN    7.1904   1.989997 1973-01-04   \n",
       "3      65338    Abomey  Benin  Zou   BJ  BEN    7.1904   1.989997 1973-01-06   \n",
       "4      65338    Abomey  Benin  Zou   BJ  BEN    7.1904   1.989997 1973-01-07   \n",
       "\n",
       "   saison  temp_moyenne_c  temp_min_c  temp_max_c  precipitation_mm  \\\n",
       "0  Winter            29.0   24.090909   35.527778               NaN   \n",
       "1  Winter            30.2   24.090909   35.527778               NaN   \n",
       "2  Winter            30.4   24.090909   35.527778               NaN   \n",
       "3  Winter            29.4   26.000000   35.527778               NaN   \n",
       "4  Winter            29.3   24.000000   35.000000               NaN   \n",
       "\n",
       "   vitesse_vent_moyenne_kmh  annee  month  \n",
       "0                       NaN   1973      1  \n",
       "1                       NaN   1973      1  \n",
       "2                       NaN   1973      1  \n",
       "3                       NaN   1973      1  \n",
       "4                       NaN   1973      1  "
      ]
     },
     "execution_count": 31,
     "metadata": {},
     "output_type": "execute_result"
    }
   ],
   "source": [
    "val_mq_precipitations.head()"
   ]
  },
  {
   "cell_type": "code",
   "execution_count": 33,
   "id": "6cc2f127-3beb-4e62-bf6d-2f71c5cff4b7",
   "metadata": {},
   "outputs": [
    {
     "data": {
      "text/html": [
       "<div>\n",
       "<style scoped>\n",
       "    .dataframe tbody tr th:only-of-type {\n",
       "        vertical-align: middle;\n",
       "    }\n",
       "\n",
       "    .dataframe tbody tr th {\n",
       "        vertical-align: top;\n",
       "    }\n",
       "\n",
       "    .dataframe thead th {\n",
       "        text-align: right;\n",
       "    }\n",
       "</style>\n",
       "<table border=\"1\" class=\"dataframe\">\n",
       "  <thead>\n",
       "    <tr style=\"text-align: right;\">\n",
       "      <th></th>\n",
       "      <th>id_station</th>\n",
       "      <th>nom_ville</th>\n",
       "      <th>pays</th>\n",
       "      <th>etat</th>\n",
       "      <th>iso2</th>\n",
       "      <th>iso3</th>\n",
       "      <th>latitude</th>\n",
       "      <th>longitude</th>\n",
       "      <th>date</th>\n",
       "      <th>saison</th>\n",
       "      <th>temp_moyenne_c</th>\n",
       "      <th>temp_min_c</th>\n",
       "      <th>temp_max_c</th>\n",
       "      <th>precipitation_mm</th>\n",
       "      <th>vitesse_vent_moyenne_kmh</th>\n",
       "      <th>annee</th>\n",
       "    </tr>\n",
       "  </thead>\n",
       "  <tbody>\n",
       "    <tr>\n",
       "      <th>0</th>\n",
       "      <td>65338</td>\n",
       "      <td>Abomey</td>\n",
       "      <td>Benin</td>\n",
       "      <td>Zou</td>\n",
       "      <td>BJ</td>\n",
       "      <td>BEN</td>\n",
       "      <td>7.1904</td>\n",
       "      <td>1.989997</td>\n",
       "      <td>1973-01-02</td>\n",
       "      <td>Winter</td>\n",
       "      <td>29.0</td>\n",
       "      <td>24.090909</td>\n",
       "      <td>35.527778</td>\n",
       "      <td>NaN</td>\n",
       "      <td>NaN</td>\n",
       "      <td>1973</td>\n",
       "    </tr>\n",
       "    <tr>\n",
       "      <th>1</th>\n",
       "      <td>65338</td>\n",
       "      <td>Abomey</td>\n",
       "      <td>Benin</td>\n",
       "      <td>Zou</td>\n",
       "      <td>BJ</td>\n",
       "      <td>BEN</td>\n",
       "      <td>7.1904</td>\n",
       "      <td>1.989997</td>\n",
       "      <td>1973-01-03</td>\n",
       "      <td>Winter</td>\n",
       "      <td>30.2</td>\n",
       "      <td>24.090909</td>\n",
       "      <td>35.527778</td>\n",
       "      <td>NaN</td>\n",
       "      <td>NaN</td>\n",
       "      <td>1973</td>\n",
       "    </tr>\n",
       "    <tr>\n",
       "      <th>2</th>\n",
       "      <td>65338</td>\n",
       "      <td>Abomey</td>\n",
       "      <td>Benin</td>\n",
       "      <td>Zou</td>\n",
       "      <td>BJ</td>\n",
       "      <td>BEN</td>\n",
       "      <td>7.1904</td>\n",
       "      <td>1.989997</td>\n",
       "      <td>1973-01-04</td>\n",
       "      <td>Winter</td>\n",
       "      <td>30.4</td>\n",
       "      <td>24.090909</td>\n",
       "      <td>35.527778</td>\n",
       "      <td>NaN</td>\n",
       "      <td>NaN</td>\n",
       "      <td>1973</td>\n",
       "    </tr>\n",
       "    <tr>\n",
       "      <th>3</th>\n",
       "      <td>65338</td>\n",
       "      <td>Abomey</td>\n",
       "      <td>Benin</td>\n",
       "      <td>Zou</td>\n",
       "      <td>BJ</td>\n",
       "      <td>BEN</td>\n",
       "      <td>7.1904</td>\n",
       "      <td>1.989997</td>\n",
       "      <td>1973-01-06</td>\n",
       "      <td>Winter</td>\n",
       "      <td>29.4</td>\n",
       "      <td>26.000000</td>\n",
       "      <td>35.527778</td>\n",
       "      <td>NaN</td>\n",
       "      <td>NaN</td>\n",
       "      <td>1973</td>\n",
       "    </tr>\n",
       "    <tr>\n",
       "      <th>4</th>\n",
       "      <td>65338</td>\n",
       "      <td>Abomey</td>\n",
       "      <td>Benin</td>\n",
       "      <td>Zou</td>\n",
       "      <td>BJ</td>\n",
       "      <td>BEN</td>\n",
       "      <td>7.1904</td>\n",
       "      <td>1.989997</td>\n",
       "      <td>1973-01-07</td>\n",
       "      <td>Winter</td>\n",
       "      <td>29.3</td>\n",
       "      <td>24.000000</td>\n",
       "      <td>35.000000</td>\n",
       "      <td>NaN</td>\n",
       "      <td>NaN</td>\n",
       "      <td>1973</td>\n",
       "    </tr>\n",
       "  </tbody>\n",
       "</table>\n",
       "</div>"
      ],
      "text/plain": [
       "  id_station nom_ville   pays etat iso2 iso3  latitude  longitude       date  \\\n",
       "0      65338    Abomey  Benin  Zou   BJ  BEN    7.1904   1.989997 1973-01-02   \n",
       "1      65338    Abomey  Benin  Zou   BJ  BEN    7.1904   1.989997 1973-01-03   \n",
       "2      65338    Abomey  Benin  Zou   BJ  BEN    7.1904   1.989997 1973-01-04   \n",
       "3      65338    Abomey  Benin  Zou   BJ  BEN    7.1904   1.989997 1973-01-06   \n",
       "4      65338    Abomey  Benin  Zou   BJ  BEN    7.1904   1.989997 1973-01-07   \n",
       "\n",
       "   saison  temp_moyenne_c  temp_min_c  temp_max_c  precipitation_mm  \\\n",
       "0  Winter            29.0   24.090909   35.527778               NaN   \n",
       "1  Winter            30.2   24.090909   35.527778               NaN   \n",
       "2  Winter            30.4   24.090909   35.527778               NaN   \n",
       "3  Winter            29.4   26.000000   35.527778               NaN   \n",
       "4  Winter            29.3   24.000000   35.000000               NaN   \n",
       "\n",
       "   vitesse_vent_moyenne_kmh  annee  \n",
       "0                       NaN   1973  \n",
       "1                       NaN   1973  \n",
       "2                       NaN   1973  \n",
       "3                       NaN   1973  \n",
       "4                       NaN   1973  "
      ]
     },
     "execution_count": 33,
     "metadata": {},
     "output_type": "execute_result"
    }
   ],
   "source": [
    "df_cedeao.head()"
   ]
  },
  {
   "cell_type": "code",
   "execution_count": 32,
   "id": "13c8c7ec-7886-4e10-a012-dd5fcb607bb2",
   "metadata": {},
   "outputs": [
    {
     "name": "stdout",
     "output_type": "stream",
     "text": [
      "month           1     2     3     4     5     6     7     8     9     10  \\\n",
      "nom_ville                                                                  \n",
      "Abidjan       1115   937   865   746   578   416   692   812   709   593   \n",
      "Aboisso        926   744   700   605   440   319   563   598   440   383   \n",
      "Abomey        1125   990   886   718   702   591   639   639   498   603   \n",
      "Accra         1002   850   946   836   800   616   793   771   692   685   \n",
      "Agadez        1381  1237  1383  1317  1356  1141   987   843  1112  1339   \n",
      "...            ...   ...   ...   ...   ...   ...   ...   ...   ...   ...   \n",
      "Wa             322   296   289   271   264   243   238   223   237   232   \n",
      "Yamoussoukro   903   762   695   622   579   504   655   579   462   512   \n",
      "Yola            44    36    37    52    49    49    38    33    19    37   \n",
      "Ziguinchor    1137  1083  1183  1151  1139   792   427   267   317   660   \n",
      "Zinder        1820  1645  1798  1755  1692  1428  1219  1105  1451  1874   \n",
      "\n",
      "month           11    12  \n",
      "nom_ville                 \n",
      "Abidjan        489   810  \n",
      "Aboisso        467   720  \n",
      "Abomey         920  1017  \n",
      "Accra          812   913  \n",
      "Agadez        1314  1369  \n",
      "...            ...   ...  \n",
      "Wa             304   354  \n",
      "Yamoussoukro   688   822  \n",
      "Yola            31    33  \n",
      "Ziguinchor    1026  1103  \n",
      "Zinder        1743  1828  \n",
      "\n",
      "[83 rows x 12 columns]\n"
     ]
    }
   ],
   "source": [
    "# Créer le tableau croisé dynamique avec city_name en lignes et month en colonnes\n",
    "tableau_croise = pd.crosstab(val_mq_precipitations['nom_ville'], val_mq_precipitations['month'])\n",
    "\n",
    "# Afficher le tableau croisé\n",
    "print(tableau_croise)\n"
   ]
  },
  {
   "cell_type": "code",
   "execution_count": 35,
   "id": "6b45a230-d1d0-4c26-b202-2c3a698946cd",
   "metadata": {},
   "outputs": [],
   "source": [
    "fichier_excel = 'tableau_croise_villes_mois.xlsx'\n",
    "tableau_croise.to_excel(fichier_excel)"
   ]
  },
  {
   "cell_type": "markdown",
   "id": "76682b82-4e07-4b6b-a9fe-0f2265eb7f8b",
   "metadata": {},
   "source": [
    "<p class = \"styledd-text\">Le tableau croisé ne nous permet pas de dire avec certitude que les données manquantes ne sont pas dues   \n",
    "à l'absence de pluies. Il y a des villes comme AGADEZ où il ne pleut presque jamais. Aussi, comme la probabilité de pluies en janvier et février est moindre par rapport à celle de pluies en mai, juin ..., cela se confirme dans les données parce que les valeurs manquantes sont plus nombreuses dans les mois de janvier et février, voire même en décembre que les autres moi. Alors, jusqu'à preuve de contraire, nous considérons ces données manquantes comme des inobservations de précipitations.</p>"
   ]
  },
  {
   "cell_type": "code",
   "execution_count": 37,
   "id": "02f57225-ac10-4575-a189-c55820b69480",
   "metadata": {},
   "outputs": [
    {
     "data": {
      "image/png": "[encoded data removed]",
      "text/plain": [
       "<Figure size 1000x600 with 1 Axes>"
      ]
     },
     "metadata": {},
     "output_type": "display_data"
    }
   ],
   "source": [
    "# Supprimer les valeurs manquantes pour la colonne 'precipitation_mm'\n",
    "df_moustache = df_cedeao.dropna(subset=['precipitation_mm'])\n",
    "\n",
    "# Configuration de la taille de la figure\n",
    "plt.figure(figsize=(10, 6))\n",
    "\n",
    "# Créer le boxplot\n",
    "sns.boxplot(y='precipitation_mm', data=df_moustache, color='skyblue', fliersize=5, width=0.5)\n",
    "\n",
    "# Ajouter un titre et des labels\n",
    "plt.title('Boxplot des précipitations (mm)', fontsize=16, fontweight='bold')\n",
    "plt.ylabel('Précipitations (mm)', fontsize=14)\n",
    "plt.grid(axis='y', linestyle='--', alpha=0.7)  # Ajouter une grille\n",
    "\n",
    "# Afficher le boxplot\n",
    "plt.show()\n"
   ]
  },
  {
   "cell_type": "markdown",
   "id": "45c8d32c-b8c4-4b2f-a992-30fc9d0e0cc6",
   "metadata": {},
   "source": [
    "Il y a une valeur atypique (800 mm)"
   ]
  },
  {
   "cell_type": "code",
   "execution_count": 40,
   "id": "2367542a-c078-4b75-a6fa-966a3133ed6e",
   "metadata": {},
   "outputs": [
    {
     "name": "stdout",
     "output_type": "stream",
     "text": [
      "      id_station nom_ville   pays   etat iso2 iso3  latitude  longitude  \\\n",
      "17421      65344   Cotonou  Benin  Ouémé   BJ  BEN  6.400009   2.519991   \n",
      "\n",
      "            date  saison  temp_moyenne_c  temp_min_c  temp_max_c  \\\n",
      "17421 1944-02-14  Winter       28.028613        22.7        33.3   \n",
      "\n",
      "       precipitation_mm  vitesse_vent_moyenne_kmh  annee  \n",
      "17421             800.0                       NaN   1944  \n"
     ]
    }
   ],
   "source": [
    "\n",
    "# Filtrer le DataFrame pour trouver les lignes avec une précipitation de 80 mm\n",
    "ligne_precipitation_800mm = df_cedeao[df_cedeao['precipitation_mm'] == 800]\n",
    "\n",
    "# Afficher la ligne (ou les lignes) correspondante(s)\n",
    "print(ligne_precipitation_800mm)\n"
   ]
  },
  {
   "cell_type": "markdown",
   "id": "8c49fbb5-49bc-4068-8545-17b6a3d45bd8",
   "metadata": {},
   "source": [
    "C'était en le 2 février 1944, et en plus en hivers. Nous allons la laisser telle quelle car nous ne comptons pas travailler avec cette donnée."
   ]
  },
  {
   "cell_type": "markdown",
   "id": "3b8f8b13-71dc-431d-93f7-2852ac18534c",
   "metadata": {},
   "source": [
    "<h2 class = \"styled-subtitle\">Traitement des variables vitesse du vent et etat</h2>"
   ]
  },
  {
   "cell_type": "markdown",
   "id": "06247115-df27-479d-a6f8-827d285a9036",
   "metadata": {},
   "source": [
    "<h3 class = \"styled-sub-subtitle\">Vitesse du vent</h3>"
   ]
  },
  {
   "cell_type": "markdown",
   "id": "490c1973-4c95-466d-9588-fee1e49d8bac",
   "metadata": {},
   "source": [
    "<p class = \"styled-text\">Expliquer pourquoi</p"
   ]
  },
  {
   "cell_type": "code",
   "execution_count": 53,
   "id": "fb3b4df6-83f1-4eba-95c5-b23449b69c7a",
   "metadata": {},
   "outputs": [],
   "source": [
    "pays_CEDEAO = pays_CEDEAO.drop(columns=['vitesse_vent_moyenne_kmh', 'annee'])\n"
   ]
  },
  {
   "cell_type": "code",
   "execution_count": 54,
   "id": "7bd0a9b0-8879-42ae-8c71-7f6b03d322aa",
   "metadata": {},
   "outputs": [],
   "source": [
    "pays_CEDEAO = pays_CEDEAO.drop(columns=['etat'])"
   ]
  },
  {
   "cell_type": "code",
   "execution_count": 55,
   "id": "fa37c18b-477d-48c6-bf98-b89f60f3bf5b",
   "metadata": {},
   "outputs": [
    {
     "name": "stdout",
     "output_type": "stream",
     "text": [
      "      id_station nom_ville   pays etat iso2 iso3  latitude  longitude  \\\n",
      "12873      65338    Abomey  Benin  Zou   BJ  BEN    7.1904   1.989997   \n",
      "12874      65338    Abomey  Benin  Zou   BJ  BEN    7.1904   1.989997   \n",
      "12875      65338    Abomey  Benin  Zou   BJ  BEN    7.1904   1.989997   \n",
      "12876      65338    Abomey  Benin  Zou   BJ  BEN    7.1904   1.989997   \n",
      "12877      65338    Abomey  Benin  Zou   BJ  BEN    7.1904   1.989997   \n",
      "\n",
      "            date  saison  temp_moyenne_c  temp_min_c  temp_max_c  \\\n",
      "12873 2013-09-05  Autumn            25.1   23.000000        30.3   \n",
      "12874 2013-09-06  Autumn            24.7   22.600000        29.5   \n",
      "12875 2013-09-07  Autumn            25.6   22.500000        31.4   \n",
      "12876 2013-09-08  Autumn            24.8   22.500000        28.4   \n",
      "12877 2013-09-09  Autumn            24.8   23.390805        31.5   \n",
      "\n",
      "       precipitation_mm  vitesse_vent_moyenne_kmh  annee  \n",
      "12873               NaN                       NaN   2013  \n",
      "12874               NaN                       NaN   2013  \n",
      "12875               NaN                       NaN   2013  \n",
      "12876               NaN                       NaN   2013  \n",
      "12877              20.1                       NaN   2013  \n",
      "Le nombre d'observations de la base des pays de la CEDEAO pour les dernières années est:  254485\n"
     ]
    }
   ],
   "source": [
    "# Trouver la dernière date\n",
    "derniere_date = df_cedeao['date'].max()\n",
    "\n",
    "# Calculer la date d'il y a 10 ans\n",
    "date_10_ans = pd.to_datetime(derniere_date) - pd.DateOffset(years=10)\n",
    "\n",
    "# Filtrer les données pour la période de 10 ans\n",
    "df_cedeao_10 = df_cedeao[\n",
    "    (pd.to_datetime(df_cedeao['date']) >= date_10_ans) &\n",
    "    (pd.to_datetime(df_cedeao['date']) <= pd.to_datetime(derniere_date))\n",
    "]\n",
    "\n",
    "print(df_cedeao_10.head())\n",
    "print(\"Le nombre d'observations de la base des pays de la CEDEAO pour les dernières années est: \",len (df_cedeao_10))"
   ]
  },
  {
   "cell_type": "code",
   "execution_count": null,
   "id": "d6237103-30ec-4d88-83c7-1807d6e0a852",
   "metadata": {},
   "outputs": [],
   "source": [
    "# Calculer la date d'il y a 10 ans\n",
    "date_30_ans = pd.to_datetime(derniere_date) - pd.DateOffset(years=30)\n",
    "\n",
    "# Filtrer les données pour la période de 30 ans\n",
    "df_cedeao_30 = df_cedeao[\n",
    "    (pd.to_datetime(df_cedeao['date']) >= date_30_ans) &\n",
    "    (pd.to_datetime(df_cedeao['date']) <= pd.to_datetime(derniere_date))\n",
    "]\n",
    "\n",
    "print(df_cedeao_30.head())\n",
    "print(\"Le nombre d'observations de la base des pays de la CEDEAO pour les dernières années est: \",len (df_cedeao_10))"
   ]
  },
  {
   "cell_type": "markdown",
   "id": "8b05170e-57bf-42ed-8c44-6e0aff647317",
   "metadata": {},
   "source": [
    "<h3 class = \"styled-sub-subtitle\">Exportation des bases de la CEDEAO sous format .csv</h3>"
   ]
  },
  {
   "cell_type": "code",
   "execution_count": 57,
   "id": "c86cf120-bb10-4341-8e9c-860b14eefd4f",
   "metadata": {},
   "outputs": [],
   "source": [
    "df_cedeao_10.to_csv('df_cedeao_10ans.csv', index=False)\n",
    "df_cedeao_30.to_csv('df_cedeao_30ans.csv', index=False)"
   ]
  },
  {
   "cell_type": "code",
   "execution_count": null,
   "id": "e39908a1-9491-4b59-9495-8e7c975916a2",
   "metadata": {},
   "outputs": [],
   "source": []
  },
  {
   "cell_type": "markdown",
   "id": "b5911b86-8940-4fd6-a086-12ae07cbf721",
   "metadata": {},
   "source": [
    "**[Revenir à la table des matières](#TABLES-DES-MATIERES)**"
   ]
  },
  {
   "cell_type": "markdown",
   "id": "01692598-96ef-4eaa-9705-05be61f47fbc",
   "metadata": {},
   "source": [
    "<h1 class = \"styled-title\">ANALYSE</h1>"
   ]
  },
  {
   "cell_type": "code",
   "execution_count": null,
   "id": "140c8f17-166d-47f0-84ca-1abe7d06fcfe",
   "metadata": {},
   "outputs": [],
   "source": []
  },
  {
   "cell_type": "markdown",
   "id": "fb6d20f9-78e6-47c7-aa72-f5848fed1a04",
   "metadata": {},
   "source": [
    "**[Revenir à la table des matières](#TABLES-DES-MATIERES)**"
   ]
  },
  {
   "cell_type": "markdown",
   "id": "7a81a76b-957a-44bc-8af0-d6f5ac0c2f54",
   "metadata": {},
   "source": [
    "<h1 class = \"styled-title\">PREVISION</h1>"
   ]
  },
  {
   "cell_type": "code",
   "execution_count": null,
   "id": "d8569c06-2227-4dae-b888-e2e3c6ba8d9f",
   "metadata": {},
   "outputs": [],
   "source": []
  },
  {
   "cell_type": "markdown",
   "id": "7aeef1bd-15f1-4a4f-9adc-12891b24d14f",
   "metadata": {},
   "source": [
    "**[Revenir à la table des matières](#TABLES-DES-MATIERES)**"
   ]
  },
  {
   "cell_type": "markdown",
   "id": "84143631-9a45-4c13-9c33-a36bd094c60b",
   "metadata": {},
   "source": [
    "<h1 class = \"styled-title\">CONCLUSION</h1>"
   ]
  },
  {
   "cell_type": "code",
   "execution_count": null,
   "id": "b68c2048-2c13-4238-9d4e-096480d7bda2",
   "metadata": {},
   "outputs": [],
   "source": []
  },
  {
   "cell_type": "markdown",
   "id": "c9830ae1-8bcf-4467-91c3-41c538a9f1ad",
   "metadata": {},
   "source": [
    "**[Revenir à la table des matières](#TABLES-DES-MATIERES)**"
   ]
  },
  {
   "cell_type": "markdown",
   "id": "10d36ddd-9fc4-4c61-9cfe-4f126d29a075",
   "metadata": {},
   "source": [
    "<h1 class = \"styled-title\">RESSOURCES</h1>"
   ]
  },
  {
   "cell_type": "code",
   "execution_count": null,
   "id": "df68e97d-b210-418f-b1b4-cedc4b2cb54b",
   "metadata": {},
   "outputs": [],
   "source": []
  },
  {
   "cell_type": "markdown",
   "id": "fce797e1-8fe2-4390-9305-5addf09fae96",
   "metadata": {},
   "source": [
    "**[Revenir à la table des matières](#TABLES-DES-MATIERES)**"
   ]
  },
  {
   "cell_type": "code",
   "execution_count": null,
   "id": "b7e74e37-bca7-4dd2-bcf4-d0cb5dc34a79",
   "metadata": {},
   "outputs": [],
   "source": []
  }
 ],
 "metadata": {
  "kernelspec": {
   "display_name": "Python 3 (ipykernel)",
   "language": "python",
   "name": "python3"
  },
  "language_info": {
   "codemirror_mode": {
    "name": "ipython",
    "version": 3
   },
   "file_extension": ".py",
   "mimetype": "text/x-python",
   "name": "python",
   "nbconvert_exporter": "python",
   "pygments_lexer": "ipython3",
   "version": "3.12.4"
  }
 },
 "nbformat": 4,
 "nbformat_minor": 5
}
